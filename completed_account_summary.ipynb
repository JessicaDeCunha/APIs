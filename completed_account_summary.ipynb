{
 "cells": [
  {
   "cell_type": "markdown",
   "metadata": {},
   "source": [
    "# Budget Analysis\n",
    "\n",
    "---\n",
    "\n",
    "## Environment Setup"
   ]
  },
  {
   "cell_type": "code",
   "execution_count": 33,
   "metadata": {},
   "outputs": [],
   "source": [
    "# Initial Imports\n",
    "import os\n",
    "import plaid\n",
    "import requests\n",
    "import datetime\n",
    "import json\n",
    "import pandas as pd\n",
    "from dotenv import load_dotenv\n",
    "\n",
    "%matplotlib inline"
   ]
  },
  {
   "cell_type": "code",
   "execution_count": 34,
   "metadata": {},
   "outputs": [],
   "source": [
    "# Helper functions\n",
    "\n",
    "def pretty_print_response(response):\n",
    "    \"\"\"\n",
    "    This function formats a JSON file to pretty printing it in the screen.\n",
    "    \"\"\"\n",
    "    print(json.dumps(response, indent=4, sort_keys=True))"
   ]
  },
  {
   "cell_type": "code",
   "execution_count": 35,
   "metadata": {},
   "outputs": [
    {
     "data": {
      "text/plain": [
       "True"
      ]
     },
     "execution_count": 35,
     "metadata": {},
     "output_type": "execute_result"
    }
   ],
   "source": [
    "# Set environment variables from the .env file\n",
    "load_dotenv()"
   ]
  },
  {
   "cell_type": "code",
   "execution_count": 36,
   "metadata": {},
   "outputs": [],
   "source": [
    "# Extract API keys from environment variables\n",
    "PLAID_CLIENT_ID = os.getenv(\"PLAID_CLIENT_ID\")\n",
    "PLAID_PUBLIC_KEY = os.getenv(\"PLAID_PUBLIC_KEY\")\n",
    "PLAID_SECRET = os.getenv(\"PLAID_SECRET\")"
   ]
  },
  {
   "cell_type": "markdown",
   "metadata": {},
   "source": [
    "---\n",
    "\n",
    "## Plaid Access Token\n",
    "\n",
    "In this section, you will use the `plaid-python` API to generate the correct authentication tokens to access data in the free developer Sandbox. This mimics how you might connect to your own account or a customer account, but due to privacy issues, this homework will only require connecting to and analyzing the fake data from the developer sandbox that Plaid provides. \n",
    "\n",
    "Complete the following steps to generate an access token:\n",
    "\n",
    "1. Create a client to connect to plaid\n",
    "\n",
    "2. Use the client to generate a public token and request the following items: ['transactions', 'income', 'assets']\n",
    "\n",
    "3. Exchange the public token for an access token\n",
    "\n",
    "4. Test the access token by requesting and printing the available test accounts"
   ]
  },
  {
   "cell_type": "markdown",
   "metadata": {},
   "source": [
    "### 1. Create a client to connect to plaid"
   ]
  },
  {
   "cell_type": "code",
   "execution_count": 37,
   "metadata": {},
   "outputs": [],
   "source": [
    "# Create the client object\n",
    "client = plaid.Client(\n",
    "    client_id = PLAID_CLIENT_ID,\n",
    "    secret = PLAID_SECRET,\n",
    "    public_key = PLAID_PUBLIC_KEY,\n",
    "    environment = \"sandbox\"\n",
    ")"
   ]
  },
  {
   "cell_type": "code",
   "execution_count": 38,
   "metadata": {},
   "outputs": [],
   "source": [
    "# Set the institution id\n",
    "INSTITUTION_ID = \"ins_109508\""
   ]
  },
  {
   "cell_type": "markdown",
   "metadata": {},
   "source": [
    "### 2. Generate a public token"
   ]
  },
  {
   "cell_type": "code",
   "execution_count": 39,
   "metadata": {},
   "outputs": [
    {
     "name": "stdout",
     "output_type": "stream",
     "text": [
      "{\n",
      "    \"public_token\": \"public-sandbox-35557230-aa84-4f93-a314-3bb00121dafe\",\n",
      "    \"request_id\": \"gmiK9gnCKiiwemQ\"\n",
      "}\n"
     ]
    },
    {
     "data": {
      "text/plain": [
       "{'public_token': 'public-sandbox-35557230-aa84-4f93-a314-3bb00121dafe',\n",
       " 'request_id': 'gmiK9gnCKiiwemQ'}"
      ]
     },
     "execution_count": 39,
     "metadata": {},
     "output_type": "execute_result"
    }
   ],
   "source": [
    "# Create the public token\n",
    "create_tkn_response = client.Sandbox.public_token.create(\n",
    "    INSTITUTION_ID, \n",
    "    [\"transactions\",\"income\",\"assets\"]\n",
    ")\n",
    "\n",
    "# Print the public token\n",
    "\n",
    "pretty_print_response(create_tkn_response)\n",
    "create_tkn_response"
   ]
  },
  {
   "cell_type": "markdown",
   "metadata": {},
   "source": [
    "### 3. Exchange the public token for an access token"
   ]
  },
  {
   "cell_type": "code",
   "execution_count": 40,
   "metadata": {},
   "outputs": [
    {
     "name": "stdout",
     "output_type": "stream",
     "text": [
      "access-sandbox-3f0f2041-289b-49e5-ac46-b48aa8a04e91\n",
      "{'access_token': 'access-sandbox-3f0f2041-289b-49e5-ac46-b48aa8a04e91', 'item_id': '3gaaZy3jG6cmRjmRdXo5TrEdqBVGvViq3oElk', 'request_id': 'bpKtyPgEcHdEnL6'}\n"
     ]
    }
   ],
   "source": [
    "# Retrieve the access token\n",
    "# Store the access token in a Python variable\n",
    "exchange_response = client.Item.public_token.exchange(create_tkn_response[\"public_token\"])\n",
    "access_token = exchange_response[\"access_token\"]\n",
    "# Print the access toke\n",
    "print(access_token)\n",
    "print(exchange_response)"
   ]
  },
  {
   "cell_type": "markdown",
   "metadata": {},
   "source": [
    "### 4. Fetch Accounts"
   ]
  },
  {
   "cell_type": "code",
   "execution_count": 41,
   "metadata": {},
   "outputs": [
    {
     "name": "stdout",
     "output_type": "stream",
     "text": [
      "{\n",
      "    \"accounts\": [\n",
      "        {\n",
      "            \"account_id\": \"nVPP6ZylMNcxKAxKy45LSVparMzJxmF6bezVa\",\n",
      "            \"balances\": {\n",
      "                \"available\": 100,\n",
      "                \"current\": 110,\n",
      "                \"iso_currency_code\": \"USD\",\n",
      "                \"limit\": null,\n",
      "                \"unofficial_currency_code\": null\n",
      "            },\n",
      "            \"mask\": \"0000\",\n",
      "            \"name\": \"Plaid Checking\",\n",
      "            \"official_name\": \"Plaid Gold Standard 0% Interest Checking\",\n",
      "            \"subtype\": \"checking\",\n",
      "            \"type\": \"depository\"\n",
      "        },\n",
      "        {\n",
      "            \"account_id\": \"bVllRBLk65ca4ba4EA5dhEzqvgm3rnHVqxWKM\",\n",
      "            \"balances\": {\n",
      "                \"available\": 200,\n",
      "                \"current\": 210,\n",
      "                \"iso_currency_code\": \"USD\",\n",
      "                \"limit\": null,\n",
      "                \"unofficial_currency_code\": null\n",
      "            },\n",
      "            \"mask\": \"1111\",\n",
      "            \"name\": \"Plaid Saving\",\n",
      "            \"official_name\": \"Plaid Silver Standard 0.1% Interest Saving\",\n",
      "            \"subtype\": \"savings\",\n",
      "            \"type\": \"depository\"\n",
      "        },\n",
      "        {\n",
      "            \"account_id\": \"mVNN6QmRg4cBqXBqoar1ipWdQBwjv9FLJm1pB\",\n",
      "            \"balances\": {\n",
      "                \"available\": null,\n",
      "                \"current\": 1000,\n",
      "                \"iso_currency_code\": \"USD\",\n",
      "                \"limit\": null,\n",
      "                \"unofficial_currency_code\": null\n",
      "            },\n",
      "            \"mask\": \"2222\",\n",
      "            \"name\": \"Plaid CD\",\n",
      "            \"official_name\": \"Plaid Bronze Standard 0.2% Interest CD\",\n",
      "            \"subtype\": \"cd\",\n",
      "            \"type\": \"depository\"\n",
      "        },\n",
      "        {\n",
      "            \"account_id\": \"ylgg6G4NMoCgjqgjEn8bHNKy95BrDlCyA3EnN\",\n",
      "            \"balances\": {\n",
      "                \"available\": null,\n",
      "                \"current\": 410,\n",
      "                \"iso_currency_code\": \"USD\",\n",
      "                \"limit\": 2000,\n",
      "                \"unofficial_currency_code\": null\n",
      "            },\n",
      "            \"mask\": \"3333\",\n",
      "            \"name\": \"Plaid Credit Card\",\n",
      "            \"official_name\": \"Plaid Diamond 12.5% APR Interest Credit Card\",\n",
      "            \"subtype\": \"credit card\",\n",
      "            \"type\": \"credit\"\n",
      "        },\n",
      "        {\n",
      "            \"account_id\": \"9neeoqP1dltWawWa7gzxIJkW37BNEliRDGZxZ\",\n",
      "            \"balances\": {\n",
      "                \"available\": 43200,\n",
      "                \"current\": 43200,\n",
      "                \"iso_currency_code\": \"USD\",\n",
      "                \"limit\": null,\n",
      "                \"unofficial_currency_code\": null\n",
      "            },\n",
      "            \"mask\": \"4444\",\n",
      "            \"name\": \"Plaid Money Market\",\n",
      "            \"official_name\": \"Plaid Platinum Standard 1.85% Interest Money Market\",\n",
      "            \"subtype\": \"money market\",\n",
      "            \"type\": \"depository\"\n",
      "        },\n",
      "        {\n",
      "            \"account_id\": \"vVLL6ExdM1cw4kw41egGhRW6pqy3ZaiWRz86N\",\n",
      "            \"balances\": {\n",
      "                \"available\": null,\n",
      "                \"current\": 320.76,\n",
      "                \"iso_currency_code\": \"USD\",\n",
      "                \"limit\": null,\n",
      "                \"unofficial_currency_code\": null\n",
      "            },\n",
      "            \"mask\": \"5555\",\n",
      "            \"name\": \"Plaid IRA\",\n",
      "            \"official_name\": null,\n",
      "            \"subtype\": \"ira\",\n",
      "            \"type\": \"investment\"\n",
      "        },\n",
      "        {\n",
      "            \"account_id\": \"RgPPlWzdQEcL5aL5KN7nh97XBv8moJfR4lnp8\",\n",
      "            \"balances\": {\n",
      "                \"available\": null,\n",
      "                \"current\": 23631.9805,\n",
      "                \"iso_currency_code\": \"USD\",\n",
      "                \"limit\": null,\n",
      "                \"unofficial_currency_code\": null\n",
      "            },\n",
      "            \"mask\": \"6666\",\n",
      "            \"name\": \"Plaid 401k\",\n",
      "            \"official_name\": null,\n",
      "            \"subtype\": \"401k\",\n",
      "            \"type\": \"investment\"\n",
      "        },\n",
      "        {\n",
      "            \"account_id\": \"6WPPkRaQeVIG3rG3b6pMhVepN6old8Fg39dDy\",\n",
      "            \"balances\": {\n",
      "                \"available\": null,\n",
      "                \"current\": 65262,\n",
      "                \"iso_currency_code\": \"USD\",\n",
      "                \"limit\": null,\n",
      "                \"unofficial_currency_code\": null\n",
      "            },\n",
      "            \"mask\": \"7777\",\n",
      "            \"name\": \"Plaid Student Loan\",\n",
      "            \"official_name\": null,\n",
      "            \"subtype\": \"student\",\n",
      "            \"type\": \"loan\"\n",
      "        },\n",
      "        {\n",
      "            \"account_id\": \"XnMM3y47gmtklnklAZLaTDwnayVJEBidE6eKN\",\n",
      "            \"balances\": {\n",
      "                \"available\": null,\n",
      "                \"current\": 56302.06,\n",
      "                \"iso_currency_code\": \"USD\",\n",
      "                \"limit\": null,\n",
      "                \"unofficial_currency_code\": null\n",
      "            },\n",
      "            \"mask\": \"8888\",\n",
      "            \"name\": \"Plaid Mortgage\",\n",
      "            \"official_name\": null,\n",
      "            \"subtype\": \"mortgage\",\n",
      "            \"type\": \"loan\"\n",
      "        }\n",
      "    ],\n",
      "    \"item\": {\n",
      "        \"available_products\": [\n",
      "            \"auth\",\n",
      "            \"balance\",\n",
      "            \"credit_details\",\n",
      "            \"identity\",\n",
      "            \"investments\",\n",
      "            \"liabilities\"\n",
      "        ],\n",
      "        \"billed_products\": [\n",
      "            \"assets\",\n",
      "            \"income\",\n",
      "            \"transactions\"\n",
      "        ],\n",
      "        \"consent_expiration_time\": null,\n",
      "        \"error\": null,\n",
      "        \"institution_id\": \"ins_109508\",\n",
      "        \"item_id\": \"3gaaZy3jG6cmRjmRdXo5TrEdqBVGvViq3oElk\",\n",
      "        \"webhook\": \"\"\n",
      "    },\n",
      "    \"request_id\": \"RzOCgUCFYNECgqC\"\n",
      "}\n"
     ]
    }
   ],
   "source": [
    "# Retrieve accounts\n",
    "accounts = client.Accounts.get(exchange_response['access_token'])\n",
    "\n",
    "# Print accounts\n",
    "pretty_print_response(accounts)\n"
   ]
  },
  {
   "cell_type": "markdown",
   "metadata": {},
   "source": [
    "---\n",
    "\n",
    "# Account Transactions with Plaid\n",
    "\n",
    "In this section, you will use the Plaid Python SDK to connect to the Developer Sandbox account and grab a list of transactions. You will need to complete the following steps:\n",
    "\n",
    "\n",
    "1. Use the access token to fetch the transactions for the last 90 days\n",
    "\n",
    "2. Print the categories for each transaction type\n",
    "\n",
    "3. Create a new DataFrame using the following fields from the JSON transaction data: `date, name, amount, category`. (For categories with more than one label, just use the first category label in the list)\n",
    "\n",
    "4. Convert the data types to the appropriate types (i.e. datetimeindex for the date and float for the amount)"
   ]
  },
  {
   "cell_type": "markdown",
   "metadata": {},
   "source": [
    "### 1. Fetch the Transactions for the last 90 days"
   ]
  },
  {
   "cell_type": "code",
   "execution_count": 42,
   "metadata": {},
   "outputs": [
    {
     "name": "stdout",
     "output_type": "stream",
     "text": [
      "[\n",
      "    {\n",
      "        \"account_id\": \"nVPP6ZylMNcxKAxKy45LSVparMzJxmF6bezVa\",\n",
      "        \"balances\": {\n",
      "            \"available\": 100,\n",
      "            \"current\": 110,\n",
      "            \"iso_currency_code\": \"USD\",\n",
      "            \"limit\": null,\n",
      "            \"unofficial_currency_code\": null\n",
      "        },\n",
      "        \"mask\": \"0000\",\n",
      "        \"name\": \"Plaid Checking\",\n",
      "        \"official_name\": \"Plaid Gold Standard 0% Interest Checking\",\n",
      "        \"subtype\": \"checking\",\n",
      "        \"type\": \"depository\"\n",
      "    },\n",
      "    {\n",
      "        \"account_id\": \"bVllRBLk65ca4ba4EA5dhEzqvgm3rnHVqxWKM\",\n",
      "        \"balances\": {\n",
      "            \"available\": 200,\n",
      "            \"current\": 210,\n",
      "            \"iso_currency_code\": \"USD\",\n",
      "            \"limit\": null,\n",
      "            \"unofficial_currency_code\": null\n",
      "        },\n",
      "        \"mask\": \"1111\",\n",
      "        \"name\": \"Plaid Saving\",\n",
      "        \"official_name\": \"Plaid Silver Standard 0.1% Interest Saving\",\n",
      "        \"subtype\": \"savings\",\n",
      "        \"type\": \"depository\"\n",
      "    }\n",
      "]\n"
     ]
    }
   ],
   "source": [
    "# Set the start and end date 90 days from today\n",
    "start_date= '{:%Y-%m-%d}'.format(datetime.datetime.now() + datetime.timedelta(-90))\n",
    "end_date = '{:%Y-%m-%d}'.format(datetime.datetime.now())\n",
    "# Retrieve the transactions for the last 90 days\n",
    "transaction_response = client.Transactions.get(access_token,start_date,end_date)\n",
    "# Print the transactions\n",
    "pretty_print_response(transaction_response[\"accounts\"][0:2])"
   ]
  },
  {
   "cell_type": "markdown",
   "metadata": {},
   "source": [
    "### 2. Print the categories for each transaction"
   ]
  },
  {
   "cell_type": "code",
   "execution_count": 43,
   "metadata": {},
   "outputs": [
    {
     "name": "stdout",
     "output_type": "stream",
     "text": [
      "Category: Transfer\n",
      "Category: Travel\n",
      "Category: Travel\n",
      "Category: Food and Drink\n",
      "Category: Payment\n",
      "Category: Food and Drink\n",
      "Category: Shops\n",
      "Category: Payment\n",
      "Category: Travel\n",
      "Category: Transfer\n",
      "Category: Transfer\n",
      "Category: Recreation\n",
      "Category: Travel\n",
      "Category: Food and Drink\n",
      "Category: Food and Drink\n",
      "Category: Food and Drink\n",
      "Category: Transfer\n",
      "Category: Travel\n",
      "Category: Travel\n",
      "Category: Food and Drink\n",
      "Category: Payment\n",
      "Category: Food and Drink\n",
      "Category: Shops\n",
      "Category: Payment\n",
      "Category: Travel\n",
      "Category: Transfer\n",
      "Category: Transfer\n",
      "Category: Recreation\n",
      "Category: Travel\n",
      "Category: Food and Drink\n",
      "Category: Food and Drink\n",
      "Category: Food and Drink\n",
      "Category: Transfer\n",
      "Category: Travel\n",
      "Category: Travel\n",
      "Category: Food and Drink\n",
      "Category: Payment\n",
      "Category: Food and Drink\n",
      "Category: Shops\n",
      "Category: Payment\n",
      "Category: Travel\n",
      "Category: Transfer\n",
      "Category: Transfer\n",
      "Category: Recreation\n",
      "Category: Travel\n",
      "Category: Food and Drink\n",
      "Category: Food and Drink\n",
      "Category: Food and Drink\n",
      "Category: Transfer\n"
     ]
    }
   ],
   "source": [
    "# Create a for-loop to print the categories for each transaction   \n",
    "for transactions in transaction_response['transactions']:\n",
    "    print(f\"Category: {transactions['category'][0]}\")"
   ]
  },
  {
   "cell_type": "markdown",
   "metadata": {},
   "source": [
    "### 3. Create a new DataFrame using the following fields from the JSON transaction data: `date`, `name`, `amount`, `category`. \n",
    "\n",
    "(For categories with more than one label, just use the first category label in the list)"
   ]
  },
  {
   "cell_type": "code",
   "execution_count": 44,
   "metadata": {},
   "outputs": [
    {
     "data": {
      "text/html": [
       "<div>\n",
       "<style scoped>\n",
       "    .dataframe tbody tr th:only-of-type {\n",
       "        vertical-align: middle;\n",
       "    }\n",
       "\n",
       "    .dataframe tbody tr th {\n",
       "        vertical-align: top;\n",
       "    }\n",
       "\n",
       "    .dataframe thead th {\n",
       "        text-align: right;\n",
       "    }\n",
       "</style>\n",
       "<table border=\"1\" class=\"dataframe\">\n",
       "  <thead>\n",
       "    <tr style=\"text-align: right;\">\n",
       "      <th></th>\n",
       "      <th>date</th>\n",
       "      <th>name</th>\n",
       "      <th>amount</th>\n",
       "      <th>category</th>\n",
       "    </tr>\n",
       "  </thead>\n",
       "  <tbody>\n",
       "    <tr>\n",
       "      <th>0</th>\n",
       "      <td>2020-07-09</td>\n",
       "      <td>INTRST PYMNT</td>\n",
       "      <td>-4.22</td>\n",
       "      <td>Transfer</td>\n",
       "    </tr>\n",
       "    <tr>\n",
       "      <th>1</th>\n",
       "      <td>2020-06-29</td>\n",
       "      <td>United Airlines</td>\n",
       "      <td>500.00</td>\n",
       "      <td>Travel</td>\n",
       "    </tr>\n",
       "    <tr>\n",
       "      <th>2</th>\n",
       "      <td>2020-06-27</td>\n",
       "      <td>Uber 072515 SF**POOL**</td>\n",
       "      <td>6.33</td>\n",
       "      <td>Travel</td>\n",
       "    </tr>\n",
       "    <tr>\n",
       "      <th>3</th>\n",
       "      <td>2020-06-24</td>\n",
       "      <td>Tectra Inc</td>\n",
       "      <td>500.00</td>\n",
       "      <td>Food and Drink</td>\n",
       "    </tr>\n",
       "    <tr>\n",
       "      <th>4</th>\n",
       "      <td>2020-06-23</td>\n",
       "      <td>AUTOMATIC PAYMENT - THANK</td>\n",
       "      <td>2078.50</td>\n",
       "      <td>Payment</td>\n",
       "    </tr>\n",
       "  </tbody>\n",
       "</table>\n",
       "</div>"
      ],
      "text/plain": [
       "         date                       name   amount        category\n",
       "0  2020-07-09               INTRST PYMNT    -4.22        Transfer\n",
       "1  2020-06-29            United Airlines   500.00          Travel\n",
       "2  2020-06-27     Uber 072515 SF**POOL**     6.33          Travel\n",
       "3  2020-06-24                 Tectra Inc   500.00  Food and Drink\n",
       "4  2020-06-23  AUTOMATIC PAYMENT - THANK  2078.50         Payment"
      ]
     },
     "execution_count": 44,
     "metadata": {},
     "output_type": "execute_result"
    }
   ],
   "source": [
    "# Define an empty DataFrame and set the columns as date, name, amount, and category\n",
    "# Retrieve all the transactions\n",
    "# Populate the transactions DataFrame with the transactions data\n",
    "# Display sample data from the DataFrame\n",
    "transaction_df = []\n",
    "transaction_df = pd.DataFrame(transaction_response['transactions'], columns = ['date', 'name', 'amount', 'category'])\n",
    "\n",
    "for x,y in transaction_df.category.iteritems():\n",
    "    transaction_df.loc[x,'category']=y[0]\n",
    "\n",
    "transaction_df.head()"
   ]
  },
  {
   "cell_type": "markdown",
   "metadata": {},
   "source": [
    "### 4. Convert the data types to the appropriate types \n",
    "\n",
    "(i.e. datetimeindex for the date and float for the amount)"
   ]
  },
  {
   "cell_type": "code",
   "execution_count": 45,
   "metadata": {},
   "outputs": [
    {
     "data": {
      "text/plain": [
       "date         object\n",
       "name         object\n",
       "amount      float64\n",
       "category     object\n",
       "dtype: object"
      ]
     },
     "execution_count": 45,
     "metadata": {},
     "output_type": "execute_result"
    }
   ],
   "source": [
    "# Display data types\n",
    "transaction_df.dtypes"
   ]
  },
  {
   "cell_type": "code",
   "execution_count": 46,
   "metadata": {},
   "outputs": [
    {
     "data": {
      "text/plain": [
       "date        datetime64[ns]\n",
       "name                object\n",
       "amount             float64\n",
       "category            object\n",
       "dtype: object"
      ]
     },
     "execution_count": 46,
     "metadata": {},
     "output_type": "execute_result"
    }
   ],
   "source": [
    "# Make any required data type transformation\n",
    "transaction_df['date'] = pd.to_datetime(transaction_df['date'])\n",
    "transaction_df['amount'] = transaction_df['amount'].astype('float')\n",
    "transaction_df.dtypes"
   ]
  },
  {
   "cell_type": "code",
   "execution_count": 47,
   "metadata": {},
   "outputs": [
    {
     "data": {
      "text/html": [
       "<div>\n",
       "<style scoped>\n",
       "    .dataframe tbody tr th:only-of-type {\n",
       "        vertical-align: middle;\n",
       "    }\n",
       "\n",
       "    .dataframe tbody tr th {\n",
       "        vertical-align: top;\n",
       "    }\n",
       "\n",
       "    .dataframe thead th {\n",
       "        text-align: right;\n",
       "    }\n",
       "</style>\n",
       "<table border=\"1\" class=\"dataframe\">\n",
       "  <thead>\n",
       "    <tr style=\"text-align: right;\">\n",
       "      <th></th>\n",
       "      <th>date</th>\n",
       "      <th>name</th>\n",
       "      <th>amount</th>\n",
       "      <th>category</th>\n",
       "    </tr>\n",
       "  </thead>\n",
       "  <tbody>\n",
       "    <tr>\n",
       "      <th>0</th>\n",
       "      <td>2020-07-09</td>\n",
       "      <td>INTRST PYMNT</td>\n",
       "      <td>-4.22</td>\n",
       "      <td>Transfer</td>\n",
       "    </tr>\n",
       "    <tr>\n",
       "      <th>1</th>\n",
       "      <td>2020-06-29</td>\n",
       "      <td>United Airlines</td>\n",
       "      <td>500.00</td>\n",
       "      <td>Travel</td>\n",
       "    </tr>\n",
       "    <tr>\n",
       "      <th>2</th>\n",
       "      <td>2020-06-27</td>\n",
       "      <td>Uber 072515 SF**POOL**</td>\n",
       "      <td>6.33</td>\n",
       "      <td>Travel</td>\n",
       "    </tr>\n",
       "    <tr>\n",
       "      <th>3</th>\n",
       "      <td>2020-06-24</td>\n",
       "      <td>Tectra Inc</td>\n",
       "      <td>500.00</td>\n",
       "      <td>Food and Drink</td>\n",
       "    </tr>\n",
       "    <tr>\n",
       "      <th>4</th>\n",
       "      <td>2020-06-23</td>\n",
       "      <td>AUTOMATIC PAYMENT - THANK</td>\n",
       "      <td>2078.50</td>\n",
       "      <td>Payment</td>\n",
       "    </tr>\n",
       "  </tbody>\n",
       "</table>\n",
       "</div>"
      ],
      "text/plain": [
       "        date                       name   amount        category\n",
       "0 2020-07-09               INTRST PYMNT    -4.22        Transfer\n",
       "1 2020-06-29            United Airlines   500.00          Travel\n",
       "2 2020-06-27     Uber 072515 SF**POOL**     6.33          Travel\n",
       "3 2020-06-24                 Tectra Inc   500.00  Food and Drink\n",
       "4 2020-06-23  AUTOMATIC PAYMENT - THANK  2078.50         Payment"
      ]
     },
     "execution_count": 47,
     "metadata": {},
     "output_type": "execute_result"
    }
   ],
   "source": [
    "# Set the date column as index\n",
    "transaction_df.sort_index(inplace=True)\n",
    "\n",
    "# Display sample data\n",
    "transaction_df.head()\n",
    "\n",
    "#transaction_df.drop(transaction_df.index[transaction_df['category'] == 'Transfer'], inplace = True)\n",
    "#transaction_df"
   ]
  },
  {
   "cell_type": "markdown",
   "metadata": {},
   "source": [
    "---"
   ]
  },
  {
   "cell_type": "markdown",
   "metadata": {},
   "source": [
    "# Income Analysis with Plaid\n",
    "\n",
    "In this section, you will use the Plaid Sandbox to complete the following:\n",
    "\n",
    "1. Determine the previous year's gross income and print the results\n",
    "\n",
    "2. Determine the current monthly income and print the results\n",
    "\n",
    "3. Determine the projected yearly income and print the results"
   ]
  },
  {
   "cell_type": "code",
   "execution_count": 48,
   "metadata": {},
   "outputs": [
    {
     "data": {
      "text/plain": [
       "{'income': {'income_streams': [{'confidence': 0.99,\n",
       "    'days': 690,\n",
       "    'monthly_income': 500,\n",
       "    'name': 'UNITED AIRLINES'}],\n",
       "  'last_year_income': 6000,\n",
       "  'last_year_income_before_tax': 7285,\n",
       "  'max_number_of_overlapping_income_streams': 1,\n",
       "  'number_of_income_streams': 1,\n",
       "  'projected_yearly_income': 6085,\n",
       "  'projected_yearly_income_before_tax': 7389},\n",
       " 'request_id': 'tXw6sbRMlIt5TYf'}"
      ]
     },
     "execution_count": 48,
     "metadata": {},
     "output_type": "execute_result"
    }
   ],
   "source": [
    "# Fetch de income data\n",
    "# Print the income data\n",
    "\n",
    "income = client.Income.get(exchange_response['access_token'])\n",
    "income"
   ]
  },
  {
   "cell_type": "code",
   "execution_count": 49,
   "metadata": {},
   "outputs": [
    {
     "data": {
      "text/plain": [
       "7285"
      ]
     },
     "execution_count": 49,
     "metadata": {},
     "output_type": "execute_result"
    }
   ],
   "source": [
    "# Determine the previous year's gross income and print the results\n",
    "income['income']['last_year_income_before_tax']"
   ]
  },
  {
   "cell_type": "code",
   "execution_count": 50,
   "metadata": {},
   "outputs": [
    {
     "data": {
      "text/plain": [
       "500"
      ]
     },
     "execution_count": 50,
     "metadata": {},
     "output_type": "execute_result"
    }
   ],
   "source": [
    "# Determine the current monthly income and print the results\n",
    "income['income']['income_streams'][0]['monthly_income']"
   ]
  },
  {
   "cell_type": "code",
   "execution_count": 51,
   "metadata": {},
   "outputs": [
    {
     "data": {
      "text/plain": [
       "7389"
      ]
     },
     "execution_count": 51,
     "metadata": {},
     "output_type": "execute_result"
    }
   ],
   "source": [
    "# Determine the projected yearly income and print the results\n",
    "income['income']['projected_yearly_income_before_tax']"
   ]
  },
  {
   "cell_type": "markdown",
   "metadata": {},
   "source": [
    "---"
   ]
  },
  {
   "cell_type": "markdown",
   "metadata": {},
   "source": [
    "# Budget Analysis\n",
    "In this section, you will use the transactions DataFrame to analyze the customer's budget\n",
    "\n",
    "1. Calculate the total spending per category and print the results (Hint: groupby or count transactions per category)\n",
    "\n",
    "2. Generate a bar chart with the number of transactions for each category\n",
    "\n",
    "3. Calulate the expenses per month\n",
    "\n",
    "4. Plot the total expenses per month"
   ]
  },
  {
   "cell_type": "markdown",
   "metadata": {},
   "source": [
    "### Calculate the expenses per category"
   ]
  },
  {
   "cell_type": "code",
   "execution_count": 52,
   "metadata": {},
   "outputs": [
    {
     "data": {
      "text/html": [
       "<div>\n",
       "<style scoped>\n",
       "    .dataframe tbody tr th:only-of-type {\n",
       "        vertical-align: middle;\n",
       "    }\n",
       "\n",
       "    .dataframe tbody tr th {\n",
       "        vertical-align: top;\n",
       "    }\n",
       "\n",
       "    .dataframe thead th {\n",
       "        text-align: right;\n",
       "    }\n",
       "</style>\n",
       "<table border=\"1\" class=\"dataframe\">\n",
       "  <thead>\n",
       "    <tr style=\"text-align: right;\">\n",
       "      <th></th>\n",
       "      <th>amount</th>\n",
       "    </tr>\n",
       "    <tr>\n",
       "      <th>category</th>\n",
       "      <th></th>\n",
       "    </tr>\n",
       "  </thead>\n",
       "  <tbody>\n",
       "    <tr>\n",
       "      <th>Food and Drink</th>\n",
       "      <td>3317.19</td>\n",
       "    </tr>\n",
       "    <tr>\n",
       "      <th>Payment</th>\n",
       "      <td>6310.50</td>\n",
       "    </tr>\n",
       "    <tr>\n",
       "      <th>Recreation</th>\n",
       "      <td>235.50</td>\n",
       "    </tr>\n",
       "    <tr>\n",
       "      <th>Shops</th>\n",
       "      <td>1500.00</td>\n",
       "    </tr>\n",
       "    <tr>\n",
       "      <th>Transfer</th>\n",
       "      <td>20533.12</td>\n",
       "    </tr>\n",
       "    <tr>\n",
       "      <th>Travel</th>\n",
       "      <td>35.19</td>\n",
       "    </tr>\n",
       "  </tbody>\n",
       "</table>\n",
       "</div>"
      ],
      "text/plain": [
       "                  amount\n",
       "category                \n",
       "Food and Drink   3317.19\n",
       "Payment          6310.50\n",
       "Recreation        235.50\n",
       "Shops            1500.00\n",
       "Transfer        20533.12\n",
       "Travel             35.19"
      ]
     },
     "execution_count": 52,
     "metadata": {},
     "output_type": "execute_result"
    }
   ],
   "source": [
    "# Compute the total expenses per category\n",
    "category_expenses=transaction_df.groupby(transaction_df['category'])\n",
    "# Display the expenses per catefory\n",
    "category_expenses.sum()"
   ]
  },
  {
   "cell_type": "code",
   "execution_count": 53,
   "metadata": {},
   "outputs": [
    {
     "data": {
      "text/plain": [
       "<matplotlib.axes._subplots.AxesSubplot at 0x1206b0890>"
      ]
     },
     "execution_count": 53,
     "metadata": {},
     "output_type": "execute_result"
    },
    {
     "data": {
      "image/png": "[encoded data removed]",
      "text/plain": [
       "<Figure size 1440x720 with 1 Axes>"
      ]
     },
     "metadata": {},
     "output_type": "display_data"
    }
   ],
   "source": [
    "# Create a spending categories pie chart.\n",
    "category_expenses.sum().plot(kind='pie', y='amount', figsize=(20,10))"
   ]
  },
  {
   "cell_type": "markdown",
   "metadata": {},
   "source": [
    "### Calculate the expenses per month"
   ]
  },
  {
   "cell_type": "code",
   "execution_count": 54,
   "metadata": {},
   "outputs": [
    {
     "data": {
      "text/plain": [
       "date\n",
       "July        -4.22\n",
       "April    10645.24\n",
       "June     10645.24\n",
       "May      10645.24\n",
       "Name: amount, dtype: float64"
      ]
     },
     "execution_count": 54,
     "metadata": {},
     "output_type": "execute_result"
    }
   ],
   "source": [
    "# Create a DataFrame with the total expenses\n",
    "# Display sample data\n",
    "\n",
    "monthly_expenses = transaction_df.groupby(transaction_df['date'].dt.strftime('%B'))['amount'].sum().sort_values()\n",
    "monthly_expenses.head()"
   ]
  },
  {
   "cell_type": "code",
   "execution_count": 56,
   "metadata": {},
   "outputs": [
    {
     "data": {
      "text/plain": [
       "date\n",
       "July        -4.22\n",
       "April    10645.24\n",
       "June     10645.24\n",
       "May      10645.24\n",
       "Name: amount, dtype: float64"
      ]
     },
     "execution_count": 56,
     "metadata": {},
     "output_type": "execute_result"
    },
    {
     "data": {
      "image/png": "[encoded data removed]",
      "text/plain": [
       "<Figure size 432x288 with 1 Axes>"
      ]
     },
     "metadata": {
      "needs_background": "light"
     },
     "output_type": "display_data"
    }
   ],
   "source": [
    "# Create a spending per month bar chart\n",
    "monthly_expenses.plot(kind = 'bar', title = 'Total Monthly Expenses')\n",
    "monthly_expenses"
   ]
  }
 ],
 "metadata": {
  "kernelspec": {
   "display_name": "Python 3.7.7 64-bit ('dev': conda)",
   "language": "python",
   "name": "python37764bitdevconda89d2ee804f3a4a58b8b458ff80fef160"
  },
  "language_info": {
   "codemirror_mode": {
    "name": "ipython",
    "version": 3
   },
   "file_extension": ".py",
   "mimetype": "text/x-python",
   "name": "python",
   "nbconvert_exporter": "python",
   "pygments_lexer": "ipython3",
   "version": "3.7.7"
  }
 },
 "nbformat": 4,
 "nbformat_minor": 4
}
