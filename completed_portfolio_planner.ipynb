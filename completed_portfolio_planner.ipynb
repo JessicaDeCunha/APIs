{
 "cells": [
  {
   "cell_type": "markdown",
   "metadata": {},
   "source": [
    "# Retirement Planner\n",
    "\n",
    "---\n",
    "\n",
    "## Environment Setup"
   ]
  },
  {
   "cell_type": "code",
   "execution_count": 2,
   "metadata": {},
   "outputs": [],
   "source": [
    "# Import libraries and dependencies\n",
    "import numpy as np\n",
    "import pandas as pd\n",
    "import os\n",
    "from datetime import datetime, timedelta\n",
    "import matplotlib.pyplot as plt\n",
    "import alpaca_trade_api as tradeapi\n",
    "%matplotlib inline"
   ]
  },
  {
   "cell_type": "code",
   "execution_count": 3,
   "metadata": {},
   "outputs": [],
   "source": [
    "# Set the random seed for resutls reproducibility (for testing purposes only)\n",
    "np.random.seed(42)"
   ]
  },
  {
   "cell_type": "markdown",
   "metadata": {},
   "source": [
    "---\n",
    "\n",
    "## Portfolio Planner\n",
    "\n",
    "In this activity, you will use the Alpaca API to grab historical data for a `60/40` portfolio using `SPY` to represent the stock portion and `AGG` to represent the bonds."
   ]
  },
  {
   "cell_type": "code",
   "execution_count": 4,
   "metadata": {},
   "outputs": [],
   "source": [
    "# Load .env enviroment variables\n",
    "from dotenv import load_dotenv\n",
    "load_dotenv()\n",
    "\n",
    "# Set Alpaca API key and secret\n",
    "apca_api_key = os.getenv(\"APCA_API_KEY\")\n",
    "apca_secret_key = os.getenv(\"APCA_SECRET_KEY\")\n",
    "\n",
    "# Create the Alpaca API object\n",
    "api = tradeapi.REST(\n",
    "    apca_api_key,\n",
    "    apca_secret_key,\n",
    "    api_version = \"v2\")"
   ]
  },
  {
   "cell_type": "markdown",
   "metadata": {},
   "source": [
    "# Data Collection\n",
    "\n",
    "In this step, you will need to use the Alpaca api to fetch closing prices for the `SPY` and `AGG` tickers. Save the results as a pandas DataFrame"
   ]
  },
  {
   "cell_type": "code",
   "execution_count": 8,
   "metadata": {},
   "outputs": [],
   "source": [
    "# Subset your tickers, then pull returns data:\n",
    "# Set the ticker\n",
    "ticker = [\"SPY\", \"AGG\"]\n",
    "\n",
    "# Set timeframe to '1D'\n",
    "timeframe = \"1D\"\n",
    "\n",
    "# Set start and end datetimes of 1 year, between now and 365 days ago.\n",
    "start_date = pd.Timestamp(\"2019-05-04\", tz=\"America/New_York\").isoformat()\n",
    "end_date = pd.Timestamp(\"2020-05-04\", tz=\"America/New_York\").isoformat()\n",
    "\n",
    "# Get 1 year's worth of historical data for SPY and AGG\n",
    "ticker_df = api.get_barset(\n",
    "    ticker,\n",
    "    timeframe,\n",
    "    limit=None,\n",
    "    start=start_date,\n",
    "    end=end_date,\n",
    "    after=None,\n",
    "    until=None,\n",
    ").df\n",
    "\n",
    "# Drop unnecessary columns\n",
    "ticker_df = ticker_df.drop(columns=['open', 'high', 'low', 'volume'], level=1)"
   ]
  },
  {
   "cell_type": "code",
   "execution_count": 9,
   "metadata": {},
   "outputs": [
    {
     "data": {
      "text/html": [
       "<div>\n",
       "<style scoped>\n",
       "    .dataframe tbody tr th:only-of-type {\n",
       "        vertical-align: middle;\n",
       "    }\n",
       "\n",
       "    .dataframe tbody tr th {\n",
       "        vertical-align: top;\n",
       "    }\n",
       "\n",
       "    .dataframe thead tr th {\n",
       "        text-align: left;\n",
       "    }\n",
       "\n",
       "    .dataframe thead tr:last-of-type th {\n",
       "        text-align: right;\n",
       "    }\n",
       "</style>\n",
       "<table border=\"1\" class=\"dataframe\">\n",
       "  <thead>\n",
       "    <tr>\n",
       "      <th></th>\n",
       "      <th>AGG</th>\n",
       "      <th>SPY</th>\n",
       "    </tr>\n",
       "    <tr>\n",
       "      <th></th>\n",
       "      <th>close</th>\n",
       "      <th>close</th>\n",
       "    </tr>\n",
       "    <tr>\n",
       "      <th>time</th>\n",
       "      <th></th>\n",
       "      <th></th>\n",
       "    </tr>\n",
       "  </thead>\n",
       "  <tbody>\n",
       "    <tr>\n",
       "      <th>2019-05-06 00:00:00-04:00</th>\n",
       "      <td>108.46</td>\n",
       "      <td>292.87</td>\n",
       "    </tr>\n",
       "    <tr>\n",
       "      <th>2019-05-07 00:00:00-04:00</th>\n",
       "      <td>108.62</td>\n",
       "      <td>288.04</td>\n",
       "    </tr>\n",
       "    <tr>\n",
       "      <th>2019-05-08 00:00:00-04:00</th>\n",
       "      <td>108.57</td>\n",
       "      <td>287.56</td>\n",
       "    </tr>\n",
       "    <tr>\n",
       "      <th>2019-05-09 00:00:00-04:00</th>\n",
       "      <td>108.67</td>\n",
       "      <td>286.75</td>\n",
       "    </tr>\n",
       "    <tr>\n",
       "      <th>2019-05-10 00:00:00-04:00</th>\n",
       "      <td>108.67</td>\n",
       "      <td>288.03</td>\n",
       "    </tr>\n",
       "  </tbody>\n",
       "</table>\n",
       "</div>"
      ],
      "text/plain": [
       "                              AGG     SPY\n",
       "                            close   close\n",
       "time                                     \n",
       "2019-05-06 00:00:00-04:00  108.46  292.87\n",
       "2019-05-07 00:00:00-04:00  108.62  288.04\n",
       "2019-05-08 00:00:00-04:00  108.57  287.56\n",
       "2019-05-09 00:00:00-04:00  108.67  286.75\n",
       "2019-05-10 00:00:00-04:00  108.67  288.03"
      ]
     },
     "execution_count": 9,
     "metadata": {},
     "output_type": "execute_result"
    }
   ],
   "source": [
    "# Display sample data\n",
    "ticker_df.head()"
   ]
  },
  {
   "cell_type": "markdown",
   "metadata": {},
   "source": [
    "---\n",
    "\n",
    "## Monte Carlo Simulation\n",
    "\n",
    "In this step, you will run Monte Carlo Simulations for your portfolio to model portfolio performance at different retirement ages. \n",
    "\n",
    "Complete the following steps:\n",
    "\n",
    "1. Calculate the daily returns for the SPY and AGG closing prices.\n",
    "\n",
    "2. Calculate volatility for both the SPY and AGG closing prices.\n",
    "\n",
    "3. Find the last day's closing price for both stocks and save those as variables\n",
    "\n",
    "4. Run a Monte Carlo Simulation of at least `100` iterations and generate at least `30` years of closing prices\n",
    "\n",
    "**Hint:** There are `252` trading days per year, so the number of records to generate for each Monte Carlo run will be `252 days * 30 years`."
   ]
  },
  {
   "cell_type": "code",
   "execution_count": 10,
   "metadata": {},
   "outputs": [
    {
     "data": {
      "text/plain": [
       "0.0003168408151088237"
      ]
     },
     "execution_count": 10,
     "metadata": {},
     "output_type": "execute_result"
    }
   ],
   "source": [
    "# Calculate the daily roi for the stocks\n",
    "daily_returns = ticker_df.pct_change()\n",
    "\n",
    "\n",
    "avg_daily_return_agg = daily_returns.mean()[\"AGG\"][\"close\"]\n",
    "avg_daily_return_spy = daily_returns.mean()[\"SPY\"][\"close\"]\n",
    "\n",
    "#Display sample data\n",
    "\n",
    "avg_daily_return_agg"
   ]
  },
  {
   "cell_type": "code",
   "execution_count": 11,
   "metadata": {},
   "outputs": [
    {
     "data": {
      "text/plain": [
       "0.005586066560010551"
      ]
     },
     "execution_count": 11,
     "metadata": {},
     "output_type": "execute_result"
    }
   ],
   "source": [
    "# Compute daily volatility\n",
    "std_dev_daily_return_agg = daily_returns.std()[\"AGG\"][\"close\"]\n",
    "std_dev_daily_return_spy = daily_returns.std()[\"SPY\"][\"close\"]\n",
    "\n",
    "std_dev_daily_return_agg"
   ]
  },
  {
   "cell_type": "code",
   "execution_count": 13,
   "metadata": {},
   "outputs": [],
   "source": [
    "# Save the last day's closing price\n",
    "\n",
    "last_day_close_spy = ticker_df['SPY']['close'][-1]\n",
    "last_day_close_agg = ticker_df['AGG']['close'][-1]"
   ]
  },
  {
   "cell_type": "code",
   "execution_count": 14,
   "metadata": {},
   "outputs": [],
   "source": [
    "# Setup the Monte Carlo Parameters\n",
    "num_simulations = 500\n",
    "num_records = 252 * 30\n",
    "monte_carlo = pd.DataFrame()\n",
    "\n",
    "simulated_price_df = pd.DataFrame()\n",
    "portfolio_cumulative_returns = pd.DataFrame()\n",
    "#proj_price_agg_df = pd.DataFrame()\n",
    "#proj_price_spy_df = pd.DataFrame()"
   ]
  },
  {
   "cell_type": "code",
   "execution_count": 15,
   "metadata": {},
   "outputs": [],
   "source": [
    "# Run the Monte Carlo Simulation\n",
    "for n in range(num_simulations):\n",
    "    simulated_prices_agg = [last_day_close_agg]\n",
    "    simulated_prices_spy = [last_day_close_spy]\n",
    "    \n",
    "    for i in range(num_records):\n",
    "        simulated_price_agg = simulated_prices_agg[-1] * (1 + np.random.normal(avg_daily_return_agg, std_dev_daily_return_agg))\n",
    "        simulated_price_spy = simulated_prices_spy[-1] * (1 + np.random.normal(avg_daily_return_spy, std_dev_daily_return_spy))\n",
    "        \n",
    "        simulated_prices_agg.append(simulated_price_agg)\n",
    "        simulated_prices_spy.append(simulated_price_spy)\n",
    "        \n",
    "#sim_agg_price_df = pd.DataFrame({\"Simulated AGG Prices\": proj_price_agg})\n",
    "#sim_spy_price_df = pd.DataFrame({\"Simulated SPY Prices\": proj_price_spy})\n",
    "\n",
    "    simulated_price_df[\"AGG prices\"] = pd.Series(simulated_prices_agg)\n",
    "    simulated_price_df[\"SPY prices\"] = pd.Series(simulated_prices_spy)\n",
    "    \n",
    "    simulated_daily_returns = simulated_price_df.pct_change()\n",
    "    \n",
    "    weights = [0.60, 0.40]\n",
    "    \n",
    "    portfolio_daily_returns = simulated_daily_returns.dot(weights)\n",
    "    \n",
    "    portfolio_cumulative_returns[n] = (1 + portfolio_daily_returns.fillna(0)).cumprod()\n",
    "    "
   ]
  },
  {
   "cell_type": "code",
   "execution_count": 16,
   "metadata": {},
   "outputs": [
    {
     "data": {
      "text/html": [
       "<div>\n",
       "<style scoped>\n",
       "    .dataframe tbody tr th:only-of-type {\n",
       "        vertical-align: middle;\n",
       "    }\n",
       "\n",
       "    .dataframe tbody tr th {\n",
       "        vertical-align: top;\n",
       "    }\n",
       "\n",
       "    .dataframe thead th {\n",
       "        text-align: right;\n",
       "    }\n",
       "</style>\n",
       "<table border=\"1\" class=\"dataframe\">\n",
       "  <thead>\n",
       "    <tr style=\"text-align: right;\">\n",
       "      <th></th>\n",
       "      <th>0</th>\n",
       "      <th>1</th>\n",
       "      <th>2</th>\n",
       "      <th>3</th>\n",
       "      <th>4</th>\n",
       "      <th>5</th>\n",
       "      <th>6</th>\n",
       "      <th>7</th>\n",
       "      <th>8</th>\n",
       "      <th>9</th>\n",
       "      <th>...</th>\n",
       "      <th>490</th>\n",
       "      <th>491</th>\n",
       "      <th>492</th>\n",
       "      <th>493</th>\n",
       "      <th>494</th>\n",
       "      <th>495</th>\n",
       "      <th>496</th>\n",
       "      <th>497</th>\n",
       "      <th>498</th>\n",
       "      <th>499</th>\n",
       "    </tr>\n",
       "  </thead>\n",
       "  <tbody>\n",
       "    <tr>\n",
       "      <th>0</th>\n",
       "      <td>1.000000</td>\n",
       "      <td>1.000000</td>\n",
       "      <td>1.000000</td>\n",
       "      <td>1.000000</td>\n",
       "      <td>1.000000</td>\n",
       "      <td>1.000000</td>\n",
       "      <td>1.000000</td>\n",
       "      <td>1.000000</td>\n",
       "      <td>1.000000</td>\n",
       "      <td>1.000000</td>\n",
       "      <td>...</td>\n",
       "      <td>1.000000</td>\n",
       "      <td>1.000000</td>\n",
       "      <td>1.000000</td>\n",
       "      <td>1.000000</td>\n",
       "      <td>1.000000</td>\n",
       "      <td>1.000000</td>\n",
       "      <td>1.000000</td>\n",
       "      <td>1.000000</td>\n",
       "      <td>1.000000</td>\n",
       "      <td>1.000000</td>\n",
       "    </tr>\n",
       "    <tr>\n",
       "      <th>1</th>\n",
       "      <td>1.000760</td>\n",
       "      <td>0.997966</td>\n",
       "      <td>0.994083</td>\n",
       "      <td>1.007655</td>\n",
       "      <td>1.020747</td>\n",
       "      <td>0.992416</td>\n",
       "      <td>0.998100</td>\n",
       "      <td>1.019400</td>\n",
       "      <td>1.001010</td>\n",
       "      <td>0.990780</td>\n",
       "      <td>...</td>\n",
       "      <td>1.003133</td>\n",
       "      <td>0.984930</td>\n",
       "      <td>1.004797</td>\n",
       "      <td>1.003258</td>\n",
       "      <td>0.991997</td>\n",
       "      <td>1.005345</td>\n",
       "      <td>0.999984</td>\n",
       "      <td>1.007615</td>\n",
       "      <td>0.997046</td>\n",
       "      <td>0.989013</td>\n",
       "    </tr>\n",
       "    <tr>\n",
       "      <th>2</th>\n",
       "      <td>1.015588</td>\n",
       "      <td>1.005300</td>\n",
       "      <td>1.000540</td>\n",
       "      <td>0.991573</td>\n",
       "      <td>1.017171</td>\n",
       "      <td>0.987227</td>\n",
       "      <td>0.989610</td>\n",
       "      <td>1.003564</td>\n",
       "      <td>0.998429</td>\n",
       "      <td>0.989175</td>\n",
       "      <td>...</td>\n",
       "      <td>1.008966</td>\n",
       "      <td>0.989738</td>\n",
       "      <td>1.007418</td>\n",
       "      <td>1.008602</td>\n",
       "      <td>0.993065</td>\n",
       "      <td>0.983868</td>\n",
       "      <td>1.000474</td>\n",
       "      <td>1.004302</td>\n",
       "      <td>0.992456</td>\n",
       "      <td>0.996178</td>\n",
       "    </tr>\n",
       "    <tr>\n",
       "      <th>3</th>\n",
       "      <td>1.013077</td>\n",
       "      <td>1.003352</td>\n",
       "      <td>1.001123</td>\n",
       "      <td>0.990559</td>\n",
       "      <td>1.012654</td>\n",
       "      <td>0.976451</td>\n",
       "      <td>0.996672</td>\n",
       "      <td>0.990194</td>\n",
       "      <td>0.997174</td>\n",
       "      <td>1.004990</td>\n",
       "      <td>...</td>\n",
       "      <td>1.009486</td>\n",
       "      <td>0.979623</td>\n",
       "      <td>1.009492</td>\n",
       "      <td>1.015348</td>\n",
       "      <td>0.982281</td>\n",
       "      <td>0.986634</td>\n",
       "      <td>1.009986</td>\n",
       "      <td>0.995042</td>\n",
       "      <td>0.996840</td>\n",
       "      <td>1.001926</td>\n",
       "    </tr>\n",
       "    <tr>\n",
       "      <th>4</th>\n",
       "      <td>1.025007</td>\n",
       "      <td>1.007276</td>\n",
       "      <td>1.006309</td>\n",
       "      <td>0.999055</td>\n",
       "      <td>1.021975</td>\n",
       "      <td>0.978731</td>\n",
       "      <td>1.003330</td>\n",
       "      <td>0.978223</td>\n",
       "      <td>1.002260</td>\n",
       "      <td>1.007628</td>\n",
       "      <td>...</td>\n",
       "      <td>1.004789</td>\n",
       "      <td>0.983827</td>\n",
       "      <td>1.008736</td>\n",
       "      <td>1.006039</td>\n",
       "      <td>0.986192</td>\n",
       "      <td>0.983146</td>\n",
       "      <td>1.002209</td>\n",
       "      <td>0.999309</td>\n",
       "      <td>0.994716</td>\n",
       "      <td>1.003471</td>\n",
       "    </tr>\n",
       "  </tbody>\n",
       "</table>\n",
       "<p>5 rows × 500 columns</p>\n",
       "</div>"
      ],
      "text/plain": [
       "        0         1         2         3         4         5         6    \\\n",
       "0  1.000000  1.000000  1.000000  1.000000  1.000000  1.000000  1.000000   \n",
       "1  1.000760  0.997966  0.994083  1.007655  1.020747  0.992416  0.998100   \n",
       "2  1.015588  1.005300  1.000540  0.991573  1.017171  0.987227  0.989610   \n",
       "3  1.013077  1.003352  1.001123  0.990559  1.012654  0.976451  0.996672   \n",
       "4  1.025007  1.007276  1.006309  0.999055  1.021975  0.978731  1.003330   \n",
       "\n",
       "        7         8         9    ...       490       491       492       493  \\\n",
       "0  1.000000  1.000000  1.000000  ...  1.000000  1.000000  1.000000  1.000000   \n",
       "1  1.019400  1.001010  0.990780  ...  1.003133  0.984930  1.004797  1.003258   \n",
       "2  1.003564  0.998429  0.989175  ...  1.008966  0.989738  1.007418  1.008602   \n",
       "3  0.990194  0.997174  1.004990  ...  1.009486  0.979623  1.009492  1.015348   \n",
       "4  0.978223  1.002260  1.007628  ...  1.004789  0.983827  1.008736  1.006039   \n",
       "\n",
       "        494       495       496       497       498       499  \n",
       "0  1.000000  1.000000  1.000000  1.000000  1.000000  1.000000  \n",
       "1  0.991997  1.005345  0.999984  1.007615  0.997046  0.989013  \n",
       "2  0.993065  0.983868  1.000474  1.004302  0.992456  0.996178  \n",
       "3  0.982281  0.986634  1.009986  0.995042  0.996840  1.001926  \n",
       "4  0.986192  0.983146  1.002209  0.999309  0.994716  1.003471  \n",
       "\n",
       "[5 rows x 500 columns]"
      ]
     },
     "execution_count": 16,
     "metadata": {},
     "output_type": "execute_result"
    }
   ],
   "source": [
    "# Check that the simulation ran successfully\n",
    "portfolio_cumulative_returns.head()"
   ]
  },
  {
   "cell_type": "code",
   "execution_count": 17,
   "metadata": {},
   "outputs": [
    {
     "data": {
      "text/plain": [
       "<matplotlib.axes._subplots.AxesSubplot at 0x11bfff650>"
      ]
     },
     "execution_count": 17,
     "metadata": {},
     "output_type": "execute_result"
    },
    {
     "data": {
      "image/png": "[encoded data removed]",
      "text/plain": [
       "<Figure size 432x288 with 1 Axes>"
      ]
     },
     "metadata": {
      "needs_background": "light"
     },
     "output_type": "display_data"
    }
   ],
   "source": [
    "# Visualize the Simulation\n",
    "plot_title = f\"{n+1} Simulated Retirement Portfolio\"\n",
    "portfolio_cumulative_returns.plot(legend=None, title=plot_title)"
   ]
  },
  {
   "cell_type": "code",
   "execution_count": 47,
   "metadata": {},
   "outputs": [
    {
     "data": {
      "text/plain": [
       "495    8.625672\n",
       "496    2.675978\n",
       "497    9.737459\n",
       "498    1.087063\n",
       "499    3.094141\n",
       "Name: 5040, dtype: float64"
      ]
     },
     "execution_count": 47,
     "metadata": {},
     "output_type": "execute_result"
    }
   ],
   "source": [
    "# Select the last row for the cumulative returns (cumulative returns at 20 years)\n",
    "ending_cumulative_returns = portfolio_cumulative_returns.iloc[252*20, :]\n",
    "ending_cumulative_returns.tail()\n",
    "\n",
    "#ending_cumulative_returns = (1 + portfolio_cumulative_returns).cumprod().iloc[252*20]\n",
    "#ending_cumulative_returns.quantile([.1, .5, .9])"
   ]
  },
  {
   "cell_type": "code",
   "execution_count": 48,
   "metadata": {},
   "outputs": [
    {
     "data": {
      "text/plain": [
       "0.05    0.909971\n",
       "0.95    6.631479\n",
       "Name: 5040, dtype: float64"
      ]
     },
     "execution_count": 48,
     "metadata": {},
     "output_type": "execute_result"
    }
   ],
   "source": [
    "# Display the 90% confidence interval for the ending returns\n",
    "\n",
    "#plt.figure();\n",
    "#ending_cumulative_returns.plot(kind=\"hist\", density=True, bins=10)\n",
    "#plt.axvline(confidence_interval.iloc[0], color=\"r\")\n",
    "#plt.axvline(confidence_interval.iloc[1], color=\"r\")\n",
    "\n",
    "confidence_interval = ending_cumulative_returns.quantile(q=[0.05, 0.95])\n",
    "confidence_interval"
   ]
  },
  {
   "cell_type": "code",
   "execution_count": 49,
   "metadata": {},
   "outputs": [
    {
     "data": {
      "text/plain": [
       "<matplotlib.lines.Line2D at 0x11d062650>"
      ]
     },
     "execution_count": 49,
     "metadata": {},
     "output_type": "execute_result"
    },
    {
     "data": {
      "image/png": "[encoded data removed]",
      "text/plain": [
       "<Figure size 720x360 with 1 Axes>"
      ]
     },
     "metadata": {
      "needs_background": "light"
     },
     "output_type": "display_data"
    }
   ],
   "source": [
    "# Visualize the distribution of the ending returns\n",
    "\n",
    "plt.figure();\n",
    "ending_cumulative_returns.plot.hist(\n",
    "    density=True,\n",
    "    bins=35,\n",
    "    figsize = (10,5),\n",
    "    title = \"90% Confidence Interval for Ending Returns\")\n",
    "plt.axvline(confidence_interval.iloc[0], color=\"r\")\n",
    "plt.axvline(confidence_interval.iloc[1], color=\"r\")"
   ]
  },
  {
   "cell_type": "markdown",
   "metadata": {},
   "source": [
    "---"
   ]
  },
  {
   "cell_type": "markdown",
   "metadata": {},
   "source": [
    "## Retirement Analysis\n",
    "\n",
    "In this section, you will use the monte carlo model to answer the following retirement planning questions:\n",
    "\n",
    "1. What are the expected cumulative returns at `30` years for the `10th`, `50th`, and `90th` percentiles?\n",
    "\n",
    "2. Given an initial investment of `$20,000`, what is the expected return in dollars at the `10th`, `50th`, and `90th` percentiles?\n",
    "\n",
    "3. Given the current projected annual income from the Plaid analysis, will a `4%` withdrawal rate meet or exceed that value at the `10th` percentile? Note: This is basically determining if retirement income is equivalent to current income.\n",
    "\n",
    "4. How would a `50%` increase in the initial investment amount affect the `4%` retirement withdrawal? In other words, what happens if the initial investment had been bigger?"
   ]
  },
  {
   "cell_type": "markdown",
   "metadata": {},
   "source": [
    "### What are the expected cumulative returns at 30 years for the 10th, 50th, and 90th percentiles?"
   ]
  },
  {
   "cell_type": "code",
   "execution_count": 50,
   "metadata": {},
   "outputs": [
    {
     "name": "stdout",
     "output_type": "stream",
     "text": [
      "Expected cumulative portfolio return at 30 years for the 10th percentile is 1.16.\n",
      "Expected cumulative portfolio return at 30 years for the 50th percentile is 2.61.\n",
      "Expected cumulative portfolio return at 30 years for the 90th percentile is 5.19.\n"
     ]
    }
   ],
   "source": [
    "# Compute cumulative returns\n",
    "print(f\"Expected cumulative portfolio return at 30 years for the 10th percentile is {round(np.percentile(ending_cumulative_returns,10),2)}.\")\n",
    "print(f\"Expected cumulative portfolio return at 30 years for the 50th percentile is {round(np.percentile(ending_cumulative_returns,50),2)}.\")\n",
    "print(f\"Expected cumulative portfolio return at 30 years for the 90th percentile is {round(np.percentile(ending_cumulative_returns,90),2)}.\")"
   ]
  },
  {
   "cell_type": "markdown",
   "metadata": {},
   "source": [
    "### Given an initial investment of `$20,000`, what is the expected portfolio return in dollars at the 10th, 50th, and 90th percentiles?"
   ]
  },
  {
   "cell_type": "code",
   "execution_count": 51,
   "metadata": {},
   "outputs": [
    {
     "name": "stdout",
     "output_type": "stream",
     "text": [
      "Expected portfolio return in dollars at the 10th percentile is $23195.52.\n",
      "Expected portfolio return in dollars at the 50th percentile is $52169.44.\n",
      "Expected portfolio return in dollars at the 90th percentile is $103818.33.\n"
     ]
    }
   ],
   "source": [
    "# Set initial investment\n",
    "initial_investment = 20000\n",
    "cumulative_pnl = initial_investment * ending_cumulative_returns\n",
    "# Compute expected portfolio return\n",
    "print(f\"Expected portfolio return in dollars at the 10th percentile is ${round(np.percentile(cumulative_pnl,10),2)}.\")\n",
    "print(f\"Expected portfolio return in dollars at the 50th percentile is ${round(np.percentile(cumulative_pnl,50),2)}.\")\n",
    "print(f\"Expected portfolio return in dollars at the 90th percentile is ${round(np.percentile(cumulative_pnl,90),2)}.\")"
   ]
  },
  {
   "cell_type": "markdown",
   "metadata": {},
   "source": [
    "### Given the current projected annual income from the Plaid analysis, will a 4% withdraw rate from the retirement portfolio meet or exceed that value at the 10th percentile?\n",
    "\n",
    "Note: This is effectively saying that 90% of the expected returns will be greater than the return at the 10th percentile, so this can help measure the uncertainty about having enough funds at retirement"
   ]
  },
  {
   "cell_type": "code",
   "execution_count": 52,
   "metadata": {},
   "outputs": [
    {
     "name": "stdout",
     "output_type": "stream",
     "text": [
      "The 4% withdraw is less than the projected annual income\n"
     ]
    }
   ],
   "source": [
    "# Set Plaid's projected income\n",
    "# Calculate the 4% withdrawal for the ending return as retirement income\n",
    "# Determine if the retirement income meets or exceeds the current projected income\n",
    "\n",
    "projected_yearly_income=7285\n",
    "withdraw = 0.04*(round(np.percentile(cumulative_pnl,10),2))\n",
    "\n",
    "if withdraw >= projected_yearly_income:\n",
    "    print(\"The 4% withdraw is equal or greater than the projected annual income\")\n",
    "else:\n",
    "    print(\"The 4% withdraw is less than the projected annual income\")"
   ]
  },
  {
   "cell_type": "markdown",
   "metadata": {},
   "source": [
    "### How would a 50% increase in the initial investment amount affect the 4% retirement withdrawal?"
   ]
  },
  {
   "cell_type": "code",
   "execution_count": 53,
   "metadata": {},
   "outputs": [
    {
     "name": "stdout",
     "output_type": "stream",
     "text": [
      "The 4% withdraw is less than the projected annual income\n"
     ]
    }
   ],
   "source": [
    "# Re-calculate the retirement income with a 50% increase in the initial investment amount\n",
    "\n",
    "initial_investment_plus = 1.5*initial_investment\n",
    "cumulative_pnl_plus = initial_investment_plus * ending_cumulative_returns\n",
    "withdraw_plus = 0.04*(round(np.percentile(cumulative_pnl_plus,10),2))\n",
    "\n",
    "projected_yearly_income = 7285\n",
    "\n",
    "if withdraw_plus >= projected_yearly_income:\n",
    "    print(\"The 4% withdraw is equal or greater than the projected annual income\")\n",
    "else:\n",
    "    print(\"The 4% withdraw is less than the projected annual income\")"
   ]
  },
  {
   "cell_type": "markdown",
   "metadata": {},
   "source": [
    "### Optional Challenge\n",
    "\n",
    "Use the Monte Carlo data and calculate the cumulative returns at the `5%`, `50%`, and `95%` quartiles and plot this data as a line chart to see how the cumulative returns change over the life of the investment.\n",
    "\n",
    "In this section, you need to calculate and plot the cumulative returns for the median and `90%` confidence intervals. This plot shows the expected cumulative returns for any given day between the first day and the last day of investment. "
   ]
  },
  {
   "cell_type": "code",
   "execution_count": 89,
   "metadata": {},
   "outputs": [
    {
     "ename": "SyntaxError",
     "evalue": "unexpected character after line continuation character (<ipython-input-89-229e1cd4c33f>, line 32)",
     "output_type": "error",
     "traceback": [
      "\u001b[0;36m  File \u001b[0;32m\"<ipython-input-89-229e1cd4c33f>\"\u001b[0;36m, line \u001b[0;32m32\u001b[0m\n\u001b[0;31m    upper \\n\u001b[0m\n\u001b[0m            ^\u001b[0m\n\u001b[0;31mSyntaxError\u001b[0m\u001b[0;31m:\u001b[0m unexpected character after line continuation character\n"
     ]
    }
   ],
   "source": [
    "# Compute projected returns\n",
    "# Display sample data\n",
    "\n",
    "\n",
    "#ending_cumulative_returns.plot.line()\n",
    "\n",
    "#proj_returns = ((1 + portfolio_cumulative_returns).cumprod()).quantile([.05,.5,.95])\n",
    "#portfolio_cumulative_returns.plot(legend=None, title=plot_title)\n",
    "#proj_returns = portfolio_cumulative_returns(q=[0.05, 0.5, 0.95])\n",
    "\n",
    "#port_ret = portfolio_daily_returns.sum()\n",
    "#cumulative_ret = (port_ret + 1).cumprod()\n",
    "#port_ret()\n",
    "\n",
    "\n",
    "from scipy import stats\n",
    "import numpy as np\n",
    "\n",
    "np.random.seed(42)\n",
    "\n",
    "arr = np.random.normal(loc=74, scale=4.3, size=20)\n",
    "\n",
    "alpha_95 = 0.05                       # significance level = 5% = 95% confidence\n",
    "df = len(arr) - 1                     # degress of freedom = 20\n",
    "t = stats.t.ppf(1 - alpha_95/2, df)   # t-critical value for 95% CI = 2.093\n",
    "s = np.std(arr, ddof=1)               # sample standard deviation = 2.502\n",
    "n = len(arr)\n",
    "\n",
    "lower = np.mean(arr) - (t * s / np.sqrt(n))\n",
    "upper = np.mean(arr) + (t * s / np.sqrt(n))\n",
    "\n",
    "upper\n",
    "lower"
   ]
  },
  {
   "cell_type": "code",
   "execution_count": 83,
   "metadata": {},
   "outputs": [
    {
     "data": {
      "image/png": "[encoded data removed]",
      "text/plain": [
       "<Figure size 432x288 with 1 Axes>"
      ]
     },
     "metadata": {
      "needs_background": "light"
     },
     "output_type": "display_data"
    }
   ],
   "source": [
    "# Plot the cumulative returns over time\n",
    "fig = plt.figure()\n",
    "ax1 = fig.add_axes([0.1,0.1,0.8,0.8])\n",
    "ax1.plot(cumulative_ret)\n",
    "ax1.set_xlabel('Date')\n",
    "ax1.set_ylabel(\"Cumulative Returns\")\n",
    "ax1.set_title(\"Portfolio Cumulative Returns\")\n",
    "plt.show();"
   ]
  },
  {
   "cell_type": "code",
   "execution_count": 55,
   "metadata": {},
   "outputs": [],
   "source": [
    "# Compute portfolio performance over time\n",
    "\n",
    "# Plot projected performance over time\n"
   ]
  }
 ],
 "metadata": {
  "kernelspec": {
   "display_name": "Python 3.7.7 64-bit ('dev': conda)",
   "language": "python",
   "name": "python37764bitdevconda89d2ee804f3a4a58b8b458ff80fef160"
  },
  "language_info": {
   "codemirror_mode": {
    "name": "ipython",
    "version": 3
   },
   "file_extension": ".py",
   "mimetype": "text/x-python",
   "name": "python",
   "nbconvert_exporter": "python",
   "pygments_lexer": "ipython3",
   "version": "3.7.7"
  }
 },
 "nbformat": 4,
 "nbformat_minor": 4
}
