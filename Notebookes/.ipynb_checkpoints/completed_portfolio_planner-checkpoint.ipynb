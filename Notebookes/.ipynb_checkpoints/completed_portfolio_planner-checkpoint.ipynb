{
 "cells": [
  {
   "cell_type": "markdown",
   "metadata": {},
   "source": [
    "# Retirement Planner\n",
    "\n",
    "---\n",
    "\n",
    "## Environment Setup"
   ]
  },
  {
   "cell_type": "code",
   "execution_count": 92,
   "metadata": {},
   "outputs": [],
   "source": [
    "# Import libraries and dependencies\n",
    "import numpy as np\n",
    "import pandas as pd\n",
    "import os\n",
    "from datetime import datetime, timedelta\n",
    "import matplotlib.pyplot as plt\n",
    "import alpaca_trade_api as tradeapi\n",
    "%matplotlib inline"
   ]
  },
  {
   "cell_type": "code",
   "execution_count": 93,
   "metadata": {},
   "outputs": [],
   "source": [
    "# Set the random seed for resutls reproducibility (for testing purposes only)\n",
    "np.random.seed(42)"
   ]
  },
  {
   "cell_type": "markdown",
   "metadata": {},
   "source": [
    "---\n",
    "\n",
    "## Portfolio Planner\n",
    "\n",
    "In this activity, you will use the Alpaca API to grab historical data for a `60/40` portfolio using `SPY` to represent the stock portion and `AGG` to represent the bonds."
   ]
  },
  {
   "cell_type": "code",
   "execution_count": 94,
   "metadata": {},
   "outputs": [],
   "source": [
    "# Load .env enviroment variables\n",
    "from dotenv import load_dotenv\n",
    "load_dotenv()\n",
    "\n",
    "# Set Alpaca API key and secret\n",
    "apca_api_key = os.getenv(\"APCA_API_KEY\")\n",
    "apca_secret_key = os.getenv(\"APCA_SECRET_KEY\")\n",
    "\n",
    "# Create the Alpaca API object\n",
    "api = tradeapi.REST(\n",
    "    apca_api_key,\n",
    "    apca_secret_key,\n",
    "    api_version = \"v2\")"
   ]
  },
  {
   "cell_type": "markdown",
   "metadata": {},
   "source": [
    "# Data Collection\n",
    "\n",
    "In this step, you will need to use the Alpaca api to fetch closing prices for the `SPY` and `AGG` tickers. Save the results as a pandas DataFrame"
   ]
  },
  {
   "cell_type": "code",
   "execution_count": 100,
   "metadata": {},
   "outputs": [],
   "source": [
    "# Subset your tickers, then pull returns data:\n",
    "# Set the ticker\n",
    "tickers = [\"SPY\", \"AGG\"]\n",
    "\n",
    "# Set timeframe to '1D'\n",
    "timeframe = \"1D\"\n",
    "\n",
    "# Set start and end datetimes of 1 year, between now and 365 days ago.\n",
    "start_date = pd.Timestamp(\"2019-05-04\", tz=\"America/New_York\").isoformat()\n",
    "end_date = pd.Timestamp(\"2020-05-04\", tz=\"America/New_York\").isoformat()\n",
    "\n",
    "# Get 1 year's worth of historical data for SPY and AGG\n",
    "df = api.get_barset(\n",
    "    ticker,\n",
    "    timeframe,\n",
    "    limit=None,\n",
    "    start=start_date,\n",
    "    end=end_date,\n",
    "    after=None,\n",
    "    until=None,\n",
    ").df\n",
    "\n",
    "# Drop unnecessary columns\n",
    "df = df.drop(columns=['open', 'high', 'low', 'volume'], level=1)"
   ]
  },
  {
   "cell_type": "code",
   "execution_count": 101,
   "metadata": {},
   "outputs": [
    {
     "data": {
      "text/html": [
       "<div>\n",
       "<style scoped>\n",
       "    .dataframe tbody tr th:only-of-type {\n",
       "        vertical-align: middle;\n",
       "    }\n",
       "\n",
       "    .dataframe tbody tr th {\n",
       "        vertical-align: top;\n",
       "    }\n",
       "\n",
       "    .dataframe thead tr th {\n",
       "        text-align: left;\n",
       "    }\n",
       "\n",
       "    .dataframe thead tr:last-of-type th {\n",
       "        text-align: right;\n",
       "    }\n",
       "</style>\n",
       "<table border=\"1\" class=\"dataframe\">\n",
       "  <thead>\n",
       "    <tr>\n",
       "      <th></th>\n",
       "      <th>AGG</th>\n",
       "      <th>SPY</th>\n",
       "    </tr>\n",
       "    <tr>\n",
       "      <th></th>\n",
       "      <th>close</th>\n",
       "      <th>close</th>\n",
       "    </tr>\n",
       "    <tr>\n",
       "      <th>time</th>\n",
       "      <th></th>\n",
       "      <th></th>\n",
       "    </tr>\n",
       "  </thead>\n",
       "  <tbody>\n",
       "    <tr>\n",
       "      <th>2019-05-06 00:00:00-04:00</th>\n",
       "      <td>108.46</td>\n",
       "      <td>292.87</td>\n",
       "    </tr>\n",
       "    <tr>\n",
       "      <th>2019-05-07 00:00:00-04:00</th>\n",
       "      <td>108.62</td>\n",
       "      <td>288.04</td>\n",
       "    </tr>\n",
       "    <tr>\n",
       "      <th>2019-05-08 00:00:00-04:00</th>\n",
       "      <td>108.57</td>\n",
       "      <td>287.56</td>\n",
       "    </tr>\n",
       "    <tr>\n",
       "      <th>2019-05-09 00:00:00-04:00</th>\n",
       "      <td>108.67</td>\n",
       "      <td>286.75</td>\n",
       "    </tr>\n",
       "    <tr>\n",
       "      <th>2019-05-10 00:00:00-04:00</th>\n",
       "      <td>108.67</td>\n",
       "      <td>288.03</td>\n",
       "    </tr>\n",
       "  </tbody>\n",
       "</table>\n",
       "</div>"
      ],
      "text/plain": [
       "                              AGG     SPY\n",
       "                            close   close\n",
       "time                                     \n",
       "2019-05-06 00:00:00-04:00  108.46  292.87\n",
       "2019-05-07 00:00:00-04:00  108.62  288.04\n",
       "2019-05-08 00:00:00-04:00  108.57  287.56\n",
       "2019-05-09 00:00:00-04:00  108.67  286.75\n",
       "2019-05-10 00:00:00-04:00  108.67  288.03"
      ]
     },
     "execution_count": 101,
     "metadata": {},
     "output_type": "execute_result"
    }
   ],
   "source": [
    "# Display sample data\n",
    "df.head()"
   ]
  },
  {
   "cell_type": "markdown",
   "metadata": {},
   "source": [
    "---\n",
    "\n",
    "## Monte Carlo Simulation\n",
    "\n",
    "In this step, you will run Monte Carlo Simulations for your portfolio to model portfolio performance at different retirement ages. \n",
    "\n",
    "Complete the following steps:\n",
    "\n",
    "1. Calculate the daily returns for the SPY and AGG closing prices.\n",
    "\n",
    "2. Calculate volatility for both the SPY and AGG closing prices.\n",
    "\n",
    "3. Find the last day's closing price for both stocks and save those as variables\n",
    "\n",
    "4. Run a Monte Carlo Simulation of at least `100` iterations and generate at least `30` years of closing prices\n",
    "\n",
    "**Hint:** There are `252` trading days per year, so the number of records to generate for each Monte Carlo run will be `252 days * 30 years`."
   ]
  },
  {
   "cell_type": "code",
   "execution_count": 106,
   "metadata": {},
   "outputs": [
    {
     "data": {
      "text/plain": [
       "-0.00020232738650115758"
      ]
     },
     "execution_count": 106,
     "metadata": {},
     "output_type": "execute_result"
    }
   ],
   "source": [
    "# Calculate the daily roi for the stocks\n",
    "avg_daily_return_agg = daily_returns.mean()[\"AGG\"][\"close\"]\n",
    "avg_daily_return_spy = daily_returns.mean()[\"SPY\"][\"close\"]\n",
    "\n",
    "# Display sample data\n",
    "\n",
    "avg_daily_return_spy"
   ]
  },
  {
   "cell_type": "code",
   "execution_count": 107,
   "metadata": {},
   "outputs": [
    {
     "data": {
      "text/plain": [
       "0.032227486902712814"
      ]
     },
     "execution_count": 107,
     "metadata": {},
     "output_type": "execute_result"
    }
   ],
   "source": [
    "# Compute daily volatility\n",
    "std_dev_daily_return_agg = daily_returns.std()[\"AGG\"][\"close\"]\n",
    "std_dev_daily_return_spy = daily_returns.std()[\"SPY\"][\"close\"]\n",
    "std_dev_daily_return_spy"
   ]
  },
  {
   "cell_type": "code",
   "execution_count": 125,
   "metadata": {},
   "outputs": [],
   "source": [
    "# Save the last day's closing price\n",
    "#last_day_close = df.iloc[-1]\n",
    "#last_day_close_agg = last_day_close[0]\n",
    "#last_day_close_spy = last_day_close[1]\n",
    "\n",
    "spy_last_price = df['SPY']['close'][-1]\n",
    "agg_last_price = df['AGG']['close'][-1]"
   ]
  },
  {
   "cell_type": "code",
   "execution_count": 173,
   "metadata": {},
   "outputs": [],
   "source": [
    "# Setup the Monte Carlo Parameters\n",
    "num_simulations = 100\n",
    "num_records = 252 * 30\n",
    "monte_carlo = pd.DataFrame()\n",
    "\n",
    "simulated_price_df = pd.DataFrame()\n",
    "portfolio_cumulative_returns = pd.DataFrame()\n",
    "#proj_price_agg_df = pd.DataFrame()\n",
    "#proj_price_spy_df = pd.DataFrame()"
   ]
  },
  {
   "cell_type": "code",
   "execution_count": 174,
   "metadata": {},
   "outputs": [],
   "source": [
    "# Run the Monte Carlo Simulation\n",
    "for n in range(num_simulations):\n",
    "    simulated_prices_agg = [last_day_close_agg]\n",
    "    simulated_prices_spy = [last_day_close_spy]\n",
    "    \n",
    "    for i in range(num_records):\n",
    "        simulated_price_agg = simulated_prices_agg[-1] * (1 + np.random.normal(avg_daily_return_agg, std_dev_daily_return_agg))\n",
    "        simulated_price_spy = simulated_prices_spy[-1] * (1 + np.random.normal(avg_daily_return_spy, std_dev_daily_return_spy))\n",
    "        \n",
    "        simulated_prices_agg.append(simulated_price_agg)\n",
    "        simulated_prices_spy.append(simulated_price_spy)\n",
    "        \n",
    "#sim_agg_price_df = pd.DataFrame({\"Simulated AGG Prices\": proj_price_agg})\n",
    "#sim_spy_price_df = pd.DataFrame({\"Simulated SPY Prices\": proj_price_spy})\n",
    "\n",
    "    simulated_price_df[\"AGG prices\"] = pd.Series(simulated_prices_agg)\n",
    "    simulated_price_df[\"SPY prices\"] = pd.Series(simulated_prices_spy)\n",
    "    \n",
    "    simulated_daily_returns = simulated_price_df.pct_change()\n",
    "    \n",
    "    weights = [0.60, 0.40]\n",
    "    \n",
    "    portfolio_daily_returns = simulated_daily_returns.dot(weights)\n",
    "    \n",
    "    portfolio_cumulative_returns[n] = (1 + portfolio_daily_returns.fillna(0)).cumprod()\n",
    "    "
   ]
  },
  {
   "cell_type": "code",
   "execution_count": 175,
   "metadata": {},
   "outputs": [
    {
     "data": {
      "text/html": [
       "<div>\n",
       "<style scoped>\n",
       "    .dataframe tbody tr th:only-of-type {\n",
       "        vertical-align: middle;\n",
       "    }\n",
       "\n",
       "    .dataframe tbody tr th {\n",
       "        vertical-align: top;\n",
       "    }\n",
       "\n",
       "    .dataframe thead th {\n",
       "        text-align: right;\n",
       "    }\n",
       "</style>\n",
       "<table border=\"1\" class=\"dataframe\">\n",
       "  <thead>\n",
       "    <tr style=\"text-align: right;\">\n",
       "      <th></th>\n",
       "      <th>0</th>\n",
       "      <th>1</th>\n",
       "      <th>2</th>\n",
       "      <th>3</th>\n",
       "      <th>4</th>\n",
       "      <th>5</th>\n",
       "      <th>6</th>\n",
       "      <th>7</th>\n",
       "      <th>8</th>\n",
       "      <th>9</th>\n",
       "      <th>...</th>\n",
       "      <th>90</th>\n",
       "      <th>91</th>\n",
       "      <th>92</th>\n",
       "      <th>93</th>\n",
       "      <th>94</th>\n",
       "      <th>95</th>\n",
       "      <th>96</th>\n",
       "      <th>97</th>\n",
       "      <th>98</th>\n",
       "      <th>99</th>\n",
       "    </tr>\n",
       "  </thead>\n",
       "  <tbody>\n",
       "    <tr>\n",
       "      <th>0</th>\n",
       "      <td>1.000000</td>\n",
       "      <td>1.000000</td>\n",
       "      <td>1.000000</td>\n",
       "      <td>1.000000</td>\n",
       "      <td>1.000000</td>\n",
       "      <td>1.000000</td>\n",
       "      <td>1.000000</td>\n",
       "      <td>1.000000</td>\n",
       "      <td>1.000000</td>\n",
       "      <td>1.000000</td>\n",
       "      <td>...</td>\n",
       "      <td>1.000000</td>\n",
       "      <td>1.000000</td>\n",
       "      <td>1.000000</td>\n",
       "      <td>1.000000</td>\n",
       "      <td>1.000000</td>\n",
       "      <td>1.000000</td>\n",
       "      <td>1.000000</td>\n",
       "      <td>1.000000</td>\n",
       "      <td>1.000000</td>\n",
       "      <td>1.000000</td>\n",
       "    </tr>\n",
       "    <tr>\n",
       "      <th>1</th>\n",
       "      <td>0.975935</td>\n",
       "      <td>1.010411</td>\n",
       "      <td>0.999376</td>\n",
       "      <td>0.989070</td>\n",
       "      <td>1.033216</td>\n",
       "      <td>1.022681</td>\n",
       "      <td>1.002066</td>\n",
       "      <td>1.001114</td>\n",
       "      <td>0.976574</td>\n",
       "      <td>1.003631</td>\n",
       "      <td>...</td>\n",
       "      <td>0.990159</td>\n",
       "      <td>1.008189</td>\n",
       "      <td>1.005360</td>\n",
       "      <td>0.998838</td>\n",
       "      <td>1.000592</td>\n",
       "      <td>1.004606</td>\n",
       "      <td>0.977633</td>\n",
       "      <td>0.993916</td>\n",
       "      <td>1.008221</td>\n",
       "      <td>1.006317</td>\n",
       "    </tr>\n",
       "    <tr>\n",
       "      <th>2</th>\n",
       "      <td>0.956780</td>\n",
       "      <td>1.011378</td>\n",
       "      <td>1.000595</td>\n",
       "      <td>0.996411</td>\n",
       "      <td>1.029552</td>\n",
       "      <td>1.007361</td>\n",
       "      <td>0.986561</td>\n",
       "      <td>0.970243</td>\n",
       "      <td>0.966452</td>\n",
       "      <td>1.040160</td>\n",
       "      <td>...</td>\n",
       "      <td>0.985179</td>\n",
       "      <td>0.996283</td>\n",
       "      <td>1.005486</td>\n",
       "      <td>0.981589</td>\n",
       "      <td>1.007434</td>\n",
       "      <td>0.988052</td>\n",
       "      <td>0.982523</td>\n",
       "      <td>0.967291</td>\n",
       "      <td>1.010446</td>\n",
       "      <td>1.002957</td>\n",
       "    </tr>\n",
       "    <tr>\n",
       "      <th>3</th>\n",
       "      <td>0.980325</td>\n",
       "      <td>1.016702</td>\n",
       "      <td>1.005030</td>\n",
       "      <td>1.015370</td>\n",
       "      <td>1.016496</td>\n",
       "      <td>1.005857</td>\n",
       "      <td>0.983074</td>\n",
       "      <td>0.987107</td>\n",
       "      <td>0.961532</td>\n",
       "      <td>1.038923</td>\n",
       "      <td>...</td>\n",
       "      <td>0.984265</td>\n",
       "      <td>0.994768</td>\n",
       "      <td>0.986700</td>\n",
       "      <td>0.998997</td>\n",
       "      <td>1.000219</td>\n",
       "      <td>0.978902</td>\n",
       "      <td>0.988674</td>\n",
       "      <td>0.976780</td>\n",
       "      <td>1.016395</td>\n",
       "      <td>1.032727</td>\n",
       "    </tr>\n",
       "    <tr>\n",
       "      <th>4</th>\n",
       "      <td>0.993099</td>\n",
       "      <td>1.021893</td>\n",
       "      <td>1.001711</td>\n",
       "      <td>1.016052</td>\n",
       "      <td>1.004923</td>\n",
       "      <td>1.006776</td>\n",
       "      <td>0.973704</td>\n",
       "      <td>0.991961</td>\n",
       "      <td>0.979387</td>\n",
       "      <td>1.034457</td>\n",
       "      <td>...</td>\n",
       "      <td>1.009761</td>\n",
       "      <td>0.991982</td>\n",
       "      <td>0.997262</td>\n",
       "      <td>0.991195</td>\n",
       "      <td>0.970830</td>\n",
       "      <td>0.980978</td>\n",
       "      <td>1.001053</td>\n",
       "      <td>0.976999</td>\n",
       "      <td>0.990174</td>\n",
       "      <td>1.048780</td>\n",
       "    </tr>\n",
       "  </tbody>\n",
       "</table>\n",
       "<p>5 rows × 100 columns</p>\n",
       "</div>"
      ],
      "text/plain": [
       "         0         1         2         3         4         5         6   \\\n",
       "0  1.000000  1.000000  1.000000  1.000000  1.000000  1.000000  1.000000   \n",
       "1  0.975935  1.010411  0.999376  0.989070  1.033216  1.022681  1.002066   \n",
       "2  0.956780  1.011378  1.000595  0.996411  1.029552  1.007361  0.986561   \n",
       "3  0.980325  1.016702  1.005030  1.015370  1.016496  1.005857  0.983074   \n",
       "4  0.993099  1.021893  1.001711  1.016052  1.004923  1.006776  0.973704   \n",
       "\n",
       "         7         8         9   ...        90        91        92        93  \\\n",
       "0  1.000000  1.000000  1.000000  ...  1.000000  1.000000  1.000000  1.000000   \n",
       "1  1.001114  0.976574  1.003631  ...  0.990159  1.008189  1.005360  0.998838   \n",
       "2  0.970243  0.966452  1.040160  ...  0.985179  0.996283  1.005486  0.981589   \n",
       "3  0.987107  0.961532  1.038923  ...  0.984265  0.994768  0.986700  0.998997   \n",
       "4  0.991961  0.979387  1.034457  ...  1.009761  0.991982  0.997262  0.991195   \n",
       "\n",
       "         94        95        96        97        98        99  \n",
       "0  1.000000  1.000000  1.000000  1.000000  1.000000  1.000000  \n",
       "1  1.000592  1.004606  0.977633  0.993916  1.008221  1.006317  \n",
       "2  1.007434  0.988052  0.982523  0.967291  1.010446  1.002957  \n",
       "3  1.000219  0.978902  0.988674  0.976780  1.016395  1.032727  \n",
       "4  0.970830  0.980978  1.001053  0.976999  0.990174  1.048780  \n",
       "\n",
       "[5 rows x 100 columns]"
      ]
     },
     "execution_count": 175,
     "metadata": {},
     "output_type": "execute_result"
    }
   ],
   "source": [
    "# Check that the simulation ran successfully\n",
    "portfolio_cumulative_returns.head()"
   ]
  },
  {
   "cell_type": "code",
   "execution_count": 176,
   "metadata": {},
   "outputs": [
    {
     "data": {
      "text/plain": [
       "<matplotlib.axes._subplots.AxesSubplot at 0x13cb40690>"
      ]
     },
     "execution_count": 176,
     "metadata": {},
     "output_type": "execute_result"
    },
    {
     "data": {
      "image/png": "[encoded data removed]",
      "text/plain": [
       "<Figure size 432x288 with 1 Axes>"
      ]
     },
     "metadata": {
      "needs_background": "light"
     },
     "output_type": "display_data"
    }
   ],
   "source": [
    "# Visualize the Simulation\n",
    "plot_title = f\"{n+1} Simulations of AGG & SPY Stock Price Trajectory Over the Next 30 Years\"\n",
    "portfolio_cumulative_returns.plot(legend=None, title=plot_title)"
   ]
  },
  {
   "cell_type": "code",
   "execution_count": 180,
   "metadata": {},
   "outputs": [
    {
     "data": {
      "text/plain": [
       "95     0.437313\n",
       "96     2.332779\n",
       "97     5.106236\n",
       "98     1.378923\n",
       "99    10.617271\n",
       "Name: 7560, dtype: float64"
      ]
     },
     "execution_count": 180,
     "metadata": {},
     "output_type": "execute_result"
    }
   ],
   "source": [
    "# Select the last row for the cumulative returns (cumulative returns at 20 years)\n",
    "ending_cumulative_returns = portfolio_cumulative_returns.iloc[252*30, :]\n",
    "ending_cumulative_returns.tail()\n",
    "\n",
    "#ending_cumulative_returns = (1 + portfolio_cumulative_returns).cumprod().iloc[252*20]\n",
    "#ending_cumulative_returns.quantile([.1, .5, .9])"
   ]
  },
  {
   "cell_type": "code",
   "execution_count": 178,
   "metadata": {},
   "outputs": [
    {
     "data": {
      "text/plain": [
       "0.05    0.148187\n",
       "0.95    7.054598\n",
       "Name: 7560, dtype: float64"
      ]
     },
     "execution_count": 178,
     "metadata": {},
     "output_type": "execute_result"
    }
   ],
   "source": [
    "# Display the 90% confidence interval for the ending returns\n",
    "\n",
    "#plt.figure();\n",
    "#ending_cumulative_returns.plot(kind=\"hist\", density=True, bins=10)\n",
    "#plt.axvline(confidence_interval.iloc[0], color=\"r\")\n",
    "#plt.axvline(confidence_interval.iloc[1], color=\"r\")\n",
    "\n",
    "confidence_interval = ending_cumulative_returns.quantile(q=[0.05, 0.95])\n",
    "confidence_interval"
   ]
  },
  {
   "cell_type": "code",
   "execution_count": null,
   "metadata": {},
   "outputs": [],
   "source": [
    "# Visualize the distribution of the ending returns\n",
    "\n",
    "plt.figure();\n",
    "ending_cumulative_returns.plot.hist(\n",
    "    density=True,\n",
    "    bins=10,\n",
    "    figsize = (20,10)\n",
    "    title = \"90% Confidence Interval for Ending Returns\")\n",
    "plt.axvline(confidence_interval.iloc[0], color=\"r\")\n",
    "plt.axvline(confidence_interval.iloc[1], color=\"r\")"
   ]
  },
  {
   "cell_type": "markdown",
   "metadata": {},
   "source": [
    "---"
   ]
  },
  {
   "cell_type": "markdown",
   "metadata": {},
   "source": [
    "## Retirement Analysis\n",
    "\n",
    "In this section, you will use the monte carlo model to answer the following retirement planning questions:\n",
    "\n",
    "1. What are the expected cumulative returns at `30` years for the `10th`, `50th`, and `90th` percentiles?\n",
    "\n",
    "2. Given an initial investment of `$20,000`, what is the expected return in dollars at the `10th`, `50th`, and `90th` percentiles?\n",
    "\n",
    "3. Given the current projected annual income from the Plaid analysis, will a `4%` withdrawal rate meet or exceed that value at the `10th` percentile? Note: This is basically determining if retirement income is equivalent to current income.\n",
    "\n",
    "4. How would a `50%` increase in the initial investment amount affect the `4%` retirement withdrawal? In other words, what happens if the initial investment had been bigger?"
   ]
  },
  {
   "cell_type": "markdown",
   "metadata": {},
   "source": [
    "### What are the expected cumulative returns at 30 years for the 10th, 50th, and 90th percentiles?"
   ]
  },
  {
   "cell_type": "code",
   "execution_count": 181,
   "metadata": {},
   "outputs": [
    {
     "name": "stdout",
     "output_type": "stream",
     "text": [
      "Expected cumulative portfolio return at 30 years for the 10th percentile is 0.28.\n",
      "Expected cumulative portfolio return at 30 years for the 50th percentile is 1.71.\n",
      "Expected cumulative portfolio return at 30 years for the 90th percentile is 5.66.\n"
     ]
    }
   ],
   "source": [
    "# Compute cumulative returns\n",
    "print(f\"Expected cumulative portfolio return at 30 years for the 10th percentile is {round(np.percentile(ending_cumulative_returns,10),2)}.\")\n",
    "print(f\"Expected cumulative portfolio return at 30 years for the 50th percentile is {round(np.percentile(ending_cumulative_returns,50),2)}.\")\n",
    "print(f\"Expected cumulative portfolio return at 30 years for the 90th percentile is {round(np.percentile(ending_cumulative_returns,90),2)}.\")"
   ]
  },
  {
   "cell_type": "markdown",
   "metadata": {},
   "source": [
    "### Given an initial investment of `$20,000`, what is the expected portfolio return in dollars at the 10th, 50th, and 90th percentiles?"
   ]
  },
  {
   "cell_type": "code",
   "execution_count": 182,
   "metadata": {},
   "outputs": [
    {
     "name": "stdout",
     "output_type": "stream",
     "text": [
      "Expected portfolio return in dollars at the 10th percentile is $5500.78.\n",
      "Expected portfolio return in dollars at the 50th percentile is $34229.35.\n",
      "Expected portfolio return in dollars at the 90th percentile is $113168.86.\n"
     ]
    }
   ],
   "source": [
    "# Set initial investment\n",
    "initial_investment = 20000\n",
    "cumulative_pnl = initial_investment * ending_cumulative_returns\n",
    "# Compute expected portfolio return\n",
    "print(f\"Expected portfolio return in dollars at the 10th percentile is ${round(np.percentile(cumulative_pnl,10),2)}.\")\n",
    "print(f\"Expected portfolio return in dollars at the 50th percentile is ${round(np.percentile(cumulative_pnl,50),2)}.\")\n",
    "print(f\"Expected portfolio return in dollars at the 90th percentile is ${round(np.percentile(cumulative_pnl,90),2)}.\")"
   ]
  },
  {
   "cell_type": "markdown",
   "metadata": {},
   "source": [
    "### Given the current projected annual income from the Plaid analysis, will a 4% withdraw rate from the retirement portfolio meet or exceed that value at the 10th percentile?\n",
    "\n",
    "Note: This is effectively saying that 90% of the expected returns will be greater than the return at the 10th percentile, so this can help measure the uncertainty about having enough funds at retirement"
   ]
  },
  {
   "cell_type": "code",
   "execution_count": null,
   "metadata": {},
   "outputs": [],
   "source": [
    "# Set Plaid's projected income\n",
    "# Calculate the 4% withdrawal for the ending return as retirement income\n",
    "# Determine if the retirement income meets or exceeds the current projected income\n",
    "\n",
    "projected_yearly_income=7285\n",
    "withdraw = 0.04*(round(np.percentile(cumulative_pnl,10),2))\n",
    "\n",
    "if withdraw >= projected_yearly_income:\n",
    "    print(\"The 4% withdraw is equal or greater than the projected annual income\")\n",
    "else:\n",
    "    print(\"The 4% withdraw is less than the projected annual income\")"
   ]
  },
  {
   "cell_type": "markdown",
   "metadata": {},
   "source": [
    "### How would a 50% increase in the initial investment amount affect the 4% retirement withdrawal?"
   ]
  },
  {
   "cell_type": "code",
   "execution_count": null,
   "metadata": {},
   "outputs": [],
   "source": [
    "# Re-calculate the retirement income with a 50% increase in the initial investment amount\n",
    "\n",
    "initial_investment_plus = 1.5*initial_investment\n",
    "cumulative_pnl_plus = initial_investment_plus * ending_cumulative_returns\n",
    "withdraw_plus = 0.04*(round(np.percentile(cumulative_pnl_plus,10),2))\n",
    "\n",
    "projected_yearly_income = 7285\n",
    "\n",
    "if withdraw_plus >= projected_yearly_income:\n",
    "    print(\"The 4% withdraw is equal or greater than the projected annual income\")\n",
    "else:\n",
    "    print(\"The 4% withdraw is less than the projected annual income\")"
   ]
  },
  {
   "cell_type": "markdown",
   "metadata": {},
   "source": [
    "### Optional Challenge\n",
    "\n",
    "Use the Monte Carlo data and calculate the cumulative returns at the `5%`, `50%`, and `95%` quartiles and plot this data as a line chart to see how the cumulative returns change over the life of the investment.\n",
    "\n",
    "In this section, you need to calculate and plot the cumulative returns for the median and `90%` confidence intervals. This plot shows the expected cumulative returns for any given day between the first day and the last day of investment. "
   ]
  },
  {
   "cell_type": "code",
   "execution_count": 187,
   "metadata": {},
   "outputs": [
    {
     "data": {
      "text/html": [
       "<div>\n",
       "<style scoped>\n",
       "    .dataframe tbody tr th:only-of-type {\n",
       "        vertical-align: middle;\n",
       "    }\n",
       "\n",
       "    .dataframe tbody tr th {\n",
       "        vertical-align: top;\n",
       "    }\n",
       "\n",
       "    .dataframe thead th {\n",
       "        text-align: right;\n",
       "    }\n",
       "</style>\n",
       "<table border=\"1\" class=\"dataframe\">\n",
       "  <thead>\n",
       "    <tr style=\"text-align: right;\">\n",
       "      <th></th>\n",
       "      <th>0</th>\n",
       "      <th>1</th>\n",
       "      <th>2</th>\n",
       "      <th>3</th>\n",
       "      <th>4</th>\n",
       "      <th>5</th>\n",
       "      <th>6</th>\n",
       "      <th>7</th>\n",
       "      <th>8</th>\n",
       "      <th>9</th>\n",
       "      <th>...</th>\n",
       "      <th>7551</th>\n",
       "      <th>7552</th>\n",
       "      <th>7553</th>\n",
       "      <th>7554</th>\n",
       "      <th>7555</th>\n",
       "      <th>7556</th>\n",
       "      <th>7557</th>\n",
       "      <th>7558</th>\n",
       "      <th>7559</th>\n",
       "      <th>7560</th>\n",
       "    </tr>\n",
       "  </thead>\n",
       "  <tbody>\n",
       "    <tr>\n",
       "      <th>0.05</th>\n",
       "      <td>2.0</td>\n",
       "      <td>3.951794</td>\n",
       "      <td>7.773601</td>\n",
       "      <td>15.310074</td>\n",
       "      <td>30.165608</td>\n",
       "      <td>59.102319</td>\n",
       "      <td>116.383402</td>\n",
       "      <td>227.576304</td>\n",
       "      <td>438.086026</td>\n",
       "      <td>843.457278</td>\n",
       "      <td>...</td>\n",
       "      <td>inf</td>\n",
       "      <td>inf</td>\n",
       "      <td>inf</td>\n",
       "      <td>inf</td>\n",
       "      <td>inf</td>\n",
       "      <td>inf</td>\n",
       "      <td>inf</td>\n",
       "      <td>inf</td>\n",
       "      <td>inf</td>\n",
       "      <td>inf</td>\n",
       "    </tr>\n",
       "    <tr>\n",
       "      <th>0.50</th>\n",
       "      <td>2.0</td>\n",
       "      <td>4.000719</td>\n",
       "      <td>8.001849</td>\n",
       "      <td>15.989168</td>\n",
       "      <td>31.855917</td>\n",
       "      <td>63.777591</td>\n",
       "      <td>127.628344</td>\n",
       "      <td>255.451619</td>\n",
       "      <td>510.375222</td>\n",
       "      <td>1026.526341</td>\n",
       "      <td>...</td>\n",
       "      <td>inf</td>\n",
       "      <td>inf</td>\n",
       "      <td>inf</td>\n",
       "      <td>inf</td>\n",
       "      <td>inf</td>\n",
       "      <td>inf</td>\n",
       "      <td>inf</td>\n",
       "      <td>inf</td>\n",
       "      <td>inf</td>\n",
       "      <td>inf</td>\n",
       "    </tr>\n",
       "    <tr>\n",
       "      <th>0.95</th>\n",
       "      <td>2.0</td>\n",
       "      <td>4.045403</td>\n",
       "      <td>8.224446</td>\n",
       "      <td>16.671749</td>\n",
       "      <td>33.676484</td>\n",
       "      <td>68.873088</td>\n",
       "      <td>141.151787</td>\n",
       "      <td>290.992451</td>\n",
       "      <td>599.683268</td>\n",
       "      <td>1235.405439</td>\n",
       "      <td>...</td>\n",
       "      <td>inf</td>\n",
       "      <td>inf</td>\n",
       "      <td>inf</td>\n",
       "      <td>inf</td>\n",
       "      <td>inf</td>\n",
       "      <td>inf</td>\n",
       "      <td>inf</td>\n",
       "      <td>inf</td>\n",
       "      <td>inf</td>\n",
       "      <td>inf</td>\n",
       "    </tr>\n",
       "  </tbody>\n",
       "</table>\n",
       "<p>3 rows × 7561 columns</p>\n",
       "</div>"
      ],
      "text/plain": [
       "      0         1         2          3          4          5           6     \\\n",
       "0.05   2.0  3.951794  7.773601  15.310074  30.165608  59.102319  116.383402   \n",
       "0.50   2.0  4.000719  8.001849  15.989168  31.855917  63.777591  127.628344   \n",
       "0.95   2.0  4.045403  8.224446  16.671749  33.676484  68.873088  141.151787   \n",
       "\n",
       "            7           8            9     ...  7551  7552  7553  7554  7555  \\\n",
       "0.05  227.576304  438.086026   843.457278  ...   inf   inf   inf   inf   inf   \n",
       "0.50  255.451619  510.375222  1026.526341  ...   inf   inf   inf   inf   inf   \n",
       "0.95  290.992451  599.683268  1235.405439  ...   inf   inf   inf   inf   inf   \n",
       "\n",
       "      7556  7557  7558  7559  7560  \n",
       "0.05   inf   inf   inf   inf   inf  \n",
       "0.50   inf   inf   inf   inf   inf  \n",
       "0.95   inf   inf   inf   inf   inf  \n",
       "\n",
       "[3 rows x 7561 columns]"
      ]
     },
     "execution_count": 187,
     "metadata": {},
     "output_type": "execute_result"
    }
   ],
   "source": [
    "# Compute projected returns\n",
    "# Display sample data\n",
    "\n",
    "proj_returns = ((1 + portfolio_cumulative_returns).cumprod()).quantile([.05,.5,.95], axis=1)\n",
    "proj_returns.head()"
   ]
  },
  {
   "cell_type": "code",
   "execution_count": null,
   "metadata": {},
   "outputs": [],
   "source": [
    "# Plot the cumulative returns over time\n",
    "proj_returns.plot(figsize=(20,10), title='Cumulative Return Quantiles over 30 years')"
   ]
  },
  {
   "cell_type": "code",
   "execution_count": null,
   "metadata": {},
   "outputs": [],
   "source": [
    "# Compute portfolio performance over time\n",
    "\n",
    "# Plot projected performance over time\n"
   ]
  }
 ],
 "metadata": {
  "kernelspec": {
   "display_name": "Python 3.7.7 64-bit ('dev': conda)",
   "language": "python",
   "name": "python37764bitdevconda89d2ee804f3a4a58b8b458ff80fef160"
  },
  "language_info": {
   "codemirror_mode": {
    "name": "ipython",
    "version": 3
   },
   "file_extension": ".py",
   "mimetype": "text/x-python",
   "name": "python",
   "nbconvert_exporter": "python",
   "pygments_lexer": "ipython3",
   "version": "3.7.7"
  }
 },
 "nbformat": 4,
 "nbformat_minor": 4
}
